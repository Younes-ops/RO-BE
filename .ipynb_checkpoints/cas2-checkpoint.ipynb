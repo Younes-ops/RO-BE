{
 "cells": [
  {
   "cell_type": "code",
   "execution_count": 1,
   "metadata": {},
   "outputs": [
    {
     "name": "stdout",
     "output_type": "stream",
     "text": [
      "Welcome to the CBC MILP Solver \n",
      "Version: 2.10.3 \n",
      "Build Date: Jan  1 1970 \n",
      "\n",
      "command line - Cbc_C_Interface -solve -quit (default strategy 1)\n",
      "Continuous objective value is 11 - 0.00 seconds\n",
      "Cgl0004I processed model has 0 rows, 0 columns (0 integer (0 of which binary)) and 0 elements\n",
      "Cbc3007W No integer variables - nothing to do\n",
      "Cuts at root node changed objective from 11 to -1.79769e+308\n",
      "Probing was tried 0 times and created 0 cuts of which 0 were active after adding rounds of cuts (0.000 seconds)\n",
      "Gomory was tried 0 times and created 0 cuts of which 0 were active after adding rounds of cuts (0.000 seconds)\n",
      "Knapsack was tried 0 times and created 0 cuts of which 0 were active after adding rounds of cuts (0.000 seconds)\n",
      "Clique was tried 0 times and created 0 cuts of which 0 were active after adding rounds of cuts (0.000 seconds)\n",
      "MixedIntegerRounding2 was tried 0 times and created 0 cuts of which 0 were active after adding rounds of cuts (0.000 seconds)\n",
      "FlowCover was tried 0 times and created 0 cuts of which 0 were active after adding rounds of cuts (0.000 seconds)\n",
      "TwoMirCuts was tried 0 times and created 0 cuts of which 0 were active after adding rounds of cuts (0.000 seconds)\n",
      "ZeroHalf was tried 0 times and created 0 cuts of which 0 were active after adding rounds of cuts (0.000 seconds)\n",
      "\n",
      "Result - Optimal solution found\n",
      "\n",
      "Objective value:                11.00000000\n",
      "Enumerated nodes:               0\n",
      "Total iterations:               0\n",
      "Time (CPU seconds):             0.00\n",
      "Time (Wallclock seconds):       0.00\n",
      "\n",
      "Total time (CPU seconds):       0.00   (Wallclock seconds):       0.00\n",
      "\n"
     ]
    }
   ],
   "source": [
    "#Cas 2:\n",
    "using Cbc\n",
    "using JuMP\n",
    "\n",
    "NB_CLIENTS = 2\n",
    "NB_MAGASINS = 3\n",
    "NB_PRODUITS = 2\n",
    "\n",
    "#le cout du produit Pj dans le magasin Mi\n",
    "C = rand(1:5, NB_MAGASINS, NB_PRODUITS)\n",
    "#C = [1 1; 2 3; 3 2]\n",
    "\n",
    "#Le nombre disponible en stock de Pj dans le magasin Mi\n",
    "S = rand(10:15, NB_MAGASINS, NB_PRODUITS)\n",
    "#S = [2.5 1; 1 2; 2 1]\n",
    "\n",
    "#Le nombre total de produit Pj demandé par le client k\n",
    "q = rand(1:5, NB_CLIENTS, NB_PRODUITS)\n",
    "#q = [2 0;1 3]\n",
    "\n",
    "# set optimizer\n",
    "model1 = Model(Cbc.Optimizer)\n",
    "\n",
    "# define variables\n",
    "@variable(model1, A[1:NB_MAGASINS,1:NB_PRODUITS,1:NB_CLIENTS] >= 0, Int)\n",
    "\n",
    "# define objective function\n",
    "@objective(model1, Min, sum(sum( sum(C[i,j]*A[i,j,k] for k in 1:NB_CLIENTS) for i in 1:NB_MAGASINS) for j in 1:NB_PRODUITS))\n",
    "\n",
    "# Aucun magasin ne peut livrer plus que ce qu'il a en stock\n",
    "for i in 1:NB_MAGASINS\n",
    "    for j in 1:NB_PRODUITS\n",
    "        @constraint(model1,  sum(A[i,j,k] for k in 1:NB_CLIENTS) <= S[i,j])\n",
    "    end\n",
    "end\n",
    "\n",
    "# Le nombre total demandé par chaque client\n",
    "for j in 1:NB_PRODUITS\n",
    "    for k in 1:NB_CLIENTS\n",
    "        @constraint(model1,  sum(A[i,j,k] for i in 1:NB_MAGASINS ) == q[k,j])\n",
    "    end\n",
    "end\n",
    "\n",
    "optimize!(model1)"
   ]
  },
  {
   "cell_type": "code",
   "execution_count": 2,
   "metadata": {},
   "outputs": [
    {
     "name": "stdout",
     "output_type": "stream",
     "text": [
      "[4 1; 1 3; 5 1]\n",
      "[15 13; 11 14; 13 11]\n",
      "[4 2; 3 2]\n"
     ]
    }
   ],
   "source": [
    "# print data\n",
    "println(C)\n",
    "println(S)\n",
    "println(q)\n"
   ]
  },
  {
   "cell_type": "code",
   "execution_count": 19,
   "metadata": {},
   "outputs": [
    {
     "name": "stdout",
     "output_type": "stream",
     "text": [
      "Solution obtenue:\n",
      "\t le client 1 prend 3.0 du P1 a partir du magasin 1\n",
      "\t le client 2 prend 4.0 du P1 a partir du magasin 1\n",
      "\t le client 1 prend 4.0 du P2 a partir du magasin 3\n",
      "\t le client 2 prend 5.0 du P2 a partir du magasin 3\n"
     ]
    }
   ],
   "source": [
    "# print solution\n",
    "println(\"Solution obtenue:\")\n",
    "for i in 1:NB_MAGASINS\n",
    "    for j in 1:NB_PRODUITS\n",
    "        for k in 1:NB_CLIENTS \n",
    "            if (value(A[i,j,k])) != 0\n",
    "                println(\"\\t le client $k prend $(value(A[i,j,k])) du P$j a partir du magasin $i\")\n",
    "            end\n",
    "        end\n",
    "    end\n",
    "end"
   ]
  }
 ],
 "metadata": {
  "kernelspec": {
   "display_name": "Julia 1.5.2",
   "language": "julia",
   "name": "julia-1.5"
  },
  "language_info": {
   "file_extension": ".jl",
   "mimetype": "application/julia",
   "name": "julia",
   "version": "1.5.2"
  }
 },
 "nbformat": 4,
 "nbformat_minor": 4
}
