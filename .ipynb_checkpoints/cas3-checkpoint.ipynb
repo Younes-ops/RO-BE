{
 "cells": [
  {
   "cell_type": "code",
   "execution_count": 7,
   "metadata": {},
   "outputs": [
    {
     "ename": "LoadError",
     "evalue": "syntax: expected space before \"for\"",
     "output_type": "error",
     "traceback": [
      "syntax: expected space before \"for\"",
      "",
      "Stacktrace:",
      " [1] top-level scope at In[7]:32",
      " [2] include_string(::Function, ::Module, ::String, ::String) at .\\loading.jl:1091",
      " [3] execute_code(::String, ::String) at C:\\Users\\MDAA\\.julia\\packages\\IJulia\\a1SNk\\src\\execute_request.jl:27",
      " [4] execute_request(::ZMQ.Socket, ::IJulia.Msg) at C:\\Users\\MDAA\\.julia\\packages\\IJulia\\a1SNk\\src\\execute_request.jl:86",
      " [5] #invokelatest#1 at .\\essentials.jl:710 [inlined]",
      " [6] invokelatest at .\\essentials.jl:709 [inlined]",
      " [7] eventloop(::ZMQ.Socket) at C:\\Users\\MDAA\\.julia\\packages\\IJulia\\a1SNk\\src\\eventloop.jl:8",
      " [8] (::IJulia.var\"#15#18\")() at .\\task.jl:356"
     ]
    }
   ],
   "source": [
    "#Cas 3:\n",
    "using Cbc\n",
    "using JuMP\n",
    "\n",
    "NB_CLIENTS = 2\n",
    "NB_MAGASINS = 3\n",
    "NB_PRODUITS = 2\n",
    "\n",
    "#le cout du produit Pj dans le magasin Mi \n",
    "#C = rand(1:5, NB_MAGASINS, NB_PRODUITS)\n",
    "C = [1 1; 2 3; 3 2]\n",
    "\n",
    "#Le nombre disponible en stock de Pj dans le magasin Mi\n",
    "#S = rand(10:15, NB_MAGASINS, NB_PRODUITS)\n",
    "S = [2.5 1; 1 2; 2 1]\n",
    "\n",
    "#Le nombre total de produit Pj demandé par le client k\n",
    "#q = rand(1:5, NB_CLIENTS, NB_PRODUITS)\n",
    "q = [2 0;1 3]\n",
    "\n",
    "# Le cout d'expedition a partir de magasin Mi pour liverer au client k\n",
    "#D = rand(0:3, NB_MAGASINS, NB_CLIENTS)\n",
    "D = [1 0; 0 2; 0 1]\n",
    "\n",
    "# set optimizer\n",
    "model1 = Model(Cbc.Optimizer)\n",
    "\n",
    "# define variables\n",
    "@variable(model1, A[1:NB_MAGASINS,1:NB_PRODUITS,1:NB_CLIENTS] >= 0, Int)\n",
    "\n",
    "# define objective function\n",
    "@objective(model1, Min, sum(sum( sum((C[i,j] + D[i, k]) * A[i,j,k] for i in 1:NB_MAGASINS) for k in 1:NB_CLIENTS) for j in 1:NB_PRODUITS))\n",
    "\n",
    "# Aucun magasin ne peut livrer plus que ce qu'il a en stock\n",
    "for i in 1:NB_MAGASINS\n",
    "    for j in 1:NB_PRODUITS\n",
    "        @constraint(model1,  sum(A[i,j,k] for k in 1:NB_CLIENTS) <= S[i,j])\n",
    "    end\n",
    "end\n",
    "\n",
    "# Le nombre total demandé par chaque client\n",
    "for j in 1:NB_PRODUITS\n",
    "    for k in 1:NB_CLIENTS\n",
    "        @constraint(model1,  sum(A[i,j,k] for i in 1:NB_MAGASINS ) == q[k,j])\n",
    "    end\n",
    "end\n",
    "\n",
    "optimize!(model1)"
   ]
  },
  {
   "cell_type": "code",
   "execution_count": 3,
   "metadata": {},
   "outputs": [
    {
     "name": "stdout",
     "output_type": "stream",
     "text": [
      "Solution obtenue:\n",
      "\t benefice = 8.0\n",
      "\t le client 2 prend 1.0 du F1 a partir du magasin 1\n",
      "\t le client 2 prend 1.0 du F2 a partir du magasin 1\n",
      "\t le client 1 prend 1.0 du F1 a partir du magasin 2\n",
      "\t le client 2 prend 1.0 du F2 a partir du magasin 2\n",
      "\t le client 1 prend 1.0 du F1 a partir du magasin 3\n",
      "\t le client 2 prend 1.0 du F2 a partir du magasin 3\n"
     ]
    }
   ],
   "source": [
    "# print solution\n",
    "println(\"Solution obtenue:\")\n",
    "println(\"\\t benefice = $(objective_value(model1))\")\n",
    "for i in 1:3\n",
    "    for j in 1:2\n",
    "        for k in 1:2 \n",
    "            if (value(A[i,j,k])) != 0\n",
    "                println(\"\\t le client $k prend $(value(A[i,j,k])) du F$j a partir du magasin $i\")\n",
    "            end\n",
    "        end\n",
    "    end\n",
    "end"
   ]
  }
 ],
 "metadata": {
  "kernelspec": {
   "display_name": "Julia 1.5.2",
   "language": "julia",
   "name": "julia-1.5"
  },
  "language_info": {
   "file_extension": ".jl",
   "mimetype": "application/julia",
   "name": "julia",
   "version": "1.5.2"
  }
 },
 "nbformat": 4,
 "nbformat_minor": 4
}
