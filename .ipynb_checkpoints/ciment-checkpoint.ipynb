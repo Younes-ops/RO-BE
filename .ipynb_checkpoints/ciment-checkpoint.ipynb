{
 "cells": [
  {
   "cell_type": "code",
   "execution_count": 190,
   "metadata": {},
   "outputs": [
    {
     "name": "stdout",
     "output_type": "stream",
     "text": [
      "Welcome to the CBC MILP Solver \n",
      "Version: 2.10.3 \n",
      "Build Date: Jan  1 1970 \n",
      "\n",
      "command line - Cbc_C_Interface -solve -quit (default strategy 1)\n",
      "Presolve 3 (-1) rows, 3 (0) columns and 9 (-1) elements\n",
      "0  Obj 79.5 Primal inf 3.499999 (1) Dual inf 167 (3)\n",
      "1  Obj 1430.7353\n",
      "Optimal - objective value 1430.7353\n",
      "After Postsolve, objective 1430.7353, infeasibilities - dual 0 (0), primal 0 (0)\n",
      "Optimal objective 1430.735294 - 1 iterations time 0.002, Presolve 0.00\n",
      "Total time (CPU seconds):       0.00   (Wallclock seconds):       0.00\n",
      "\n"
     ]
    }
   ],
   "source": [
    "#Bonus\n",
    "#1.1\n",
    "using Cbc\n",
    "using JuMP\n",
    "\n",
    "# data\n",
    "N = rand(1:5) # nombre de ciments disponibles\n",
    "c = rand(10:100,N) # prix de vente par ciment\n",
    "b = rand(600:1200,2) # temps de disponibilité du four et de l'atelier\n",
    "A = rand(1:60, 2,N) # temps nécessaire de calcination (four) et de broyage (atelier) par ciment\n",
    "Q = [rand(5:10),rand(1:5)] #Quantité minimal des produits par jour \n",
    "Aux = [transpose(ones(N));1 transpose(zeros(N-1))] #matrice auxiliaire\n",
    "\n",
    "# set optimizer\n",
    "model = Model(Cbc.Optimizer)\n",
    "\n",
    "# define variables\n",
    "@variable(model, ciment[1:N] >= 0)\n",
    "\n",
    "# define objective function\n",
    "@objective(model, Max, sum(c[i]ciment[i] for i in 1:N))\n",
    "\n",
    "# define constraints\n",
    "\n",
    "#Four et atelier limité en utilisation par jour\n",
    "for i in 1:length(b)\n",
    "    @constraint(model, sum(A[i,j]ciment[j] for j in 1:N) <= b[i])\n",
    "end\n",
    "\n",
    "#Livraison quotidienne minimal par jour\n",
    "for i in 1:length(Q)\n",
    "    @constraint(model,sum(Aux[i,j]*ciment[j] for j in 1 :N) >= Q[i])\n",
    "end\n",
    "\n",
    "# run optimization\n",
    "optimize!(model)"
   ]
  },
  {
   "cell_type": "code",
   "execution_count": 189,
   "metadata": {},
   "outputs": [
    {
     "name": "stdout",
     "output_type": "stream",
     "text": [
      "Nombre de ciment disponible: 2\n",
      "prix de vente par ciment [87, 76]\n",
      "temps de disponibilité du four et de l'atelier [920, 620]\n",
      "temps nécessaire de calcination (four) et de broyage (atelier) par ciment [46 18; 45 36]\n",
      "[10, 3]\n",
      "[1.0 1.0; 1.0 0.0]\n"
     ]
    }
   ],
   "source": [
    "println(\"Nombre de ciment disponible: $(N)\")\n",
    "println(\"prix de vente par ciment $(c)\")\n",
    "println(\"temps de disponibilité du four et de l'atelier $(b)\")\n",
    "println(\"temps nécessaire de calcination (four) et de broyage (atelier) par ciment $(A)\")\n"
   ]
  },
  {
   "cell_type": "code",
   "execution_count": 183,
   "metadata": {},
   "outputs": [
    {
     "name": "stdout",
     "output_type": "stream",
     "text": [
      "Solution obtenue:\n",
      "\t benefice = 1273.8\n",
      "\t quantite de ciment 1 = 3.0\n",
      "\t quantite de ciment 2 = 13.4\n",
      "\t quantite de ciment 3 = 0.0\n"
     ]
    }
   ],
   "source": [
    "# print solution\n",
    "println(\"Solution obtenue:\")\n",
    "println(\"\\t benefice = $(objective_value(model))\")\n",
    "for i in 1:N\n",
    "    println(\"\\t quantite de ciment $i = $(value(ciment[i]))\")\n",
    "end"
   ]
  }
 ],
 "metadata": {
  "kernelspec": {
   "display_name": "Julia 1.5.2",
   "language": "julia",
   "name": "julia-1.5"
  },
  "language_info": {
   "file_extension": ".jl",
   "mimetype": "application/julia",
   "name": "julia",
   "version": "1.5.2"
  }
 },
 "nbformat": 4,
 "nbformat_minor": 4
}
