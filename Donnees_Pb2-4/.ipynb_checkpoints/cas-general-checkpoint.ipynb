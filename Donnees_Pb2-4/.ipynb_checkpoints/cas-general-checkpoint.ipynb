{
 "cells": [
  {
   "cell_type": "code",
   "execution_count": 5,
   "metadata": {},
   "outputs": [
    {
     "data": {
      "text/plain": [
       "(5, 2, 1, 6, Array{Float64,N} where N[[15.0, 10.0]], Array{Float64,N} where N[[1.0, 0.0], [0.0, 3.0], [2.0, 1.0], [3.0, 2.0], [4.0, 4.0]], Array{Float64,N} where N[[0.0, 1.0, 1.0, 7.0, 7.0, 8.0], [1.0, 0.0, 1.0, 6.0, 5.0, 7.0], [1.0, 1.0, 0.0, 5.0, 6.0, 7.0], [7.0, 6.0, 5.0, 0.0, 1.0, 1.0], [7.0, 5.0, 6.0, 1.0, 0.0, 1.0], [8.0, 7.0, 7.0, 1.0, 1.0, 0.0]])"
      ]
     },
     "execution_count": 5,
     "metadata": {},
     "output_type": "execute_result"
    }
   ],
   "source": [
    "#open data\n",
    "include(\"2_4.jl\")\n",
    "inputfilepath = \"data_2-4\"\n",
    "inputfilename = \"Data_test_5_1_2.txt\"\n",
    "nb_dem, nb_prod, nb_mag, nb_noeuds, matrice_S, matrice_Q, matrice_R = read_data_24(inputfilepath, inputfilename)\n"
   ]
  },
  {
   "cell_type": "code",
   "execution_count": null,
   "metadata": {},
   "outputs": [],
   "source": []
  },
  {
   "cell_type": "code",
   "execution_count": 4,
   "metadata": {},
   "outputs": [
    {
     "ename": "LoadError",
     "evalue": "syntax: unexpected \",\"",
     "output_type": "error",
     "traceback": [
      "syntax: unexpected \",\"",
      "",
      "Stacktrace:",
      " [1] top-level scope at In[4]:8",
      " [2] include_string(::Function, ::Module, ::String, ::String) at .\\loading.jl:1091",
      " [3] execute_code(::String, ::String) at C:\\Users\\MDAA\\.julia\\packages\\IJulia\\a1SNk\\src\\execute_request.jl:27",
      " [4] execute_request(::ZMQ.Socket, ::IJulia.Msg) at C:\\Users\\MDAA\\.julia\\packages\\IJulia\\a1SNk\\src\\execute_request.jl:86",
      " [5] #invokelatest#1 at .\\essentials.jl:710 [inlined]",
      " [6] invokelatest at .\\essentials.jl:709 [inlined]",
      " [7] eventloop(::ZMQ.Socket) at C:\\Users\\MDAA\\.julia\\packages\\IJulia\\a1SNk\\src\\eventloop.jl:8",
      " [8] (::IJulia.var\"#15#18\")() at .\\task.jl:356"
     ]
    }
   ],
   "source": [
    "using Cbc\n",
    "using JuMP\n",
    "\n",
    "# set optimizer\n",
    "model = Model(Cbc.Optimizer)\n",
    "\n",
    "# define variables\n",
    "@variable(model, x[1:nb_noeuds; 1:nb_noeuds] >= 0, Int)\n",
    "\n",
    "# define objective function\n",
    "# On se place dans le magasin k\n",
    "# x[i, j, k] = 1 si on traverse le chemin v(i, j) | 0 sinon\n",
    "@objective(model, Min, sum(x[i, j, k] * R[i, j] for i in 1:nb_noeuds, for j in 1:nb_noeuds, for k in 1:nb_mag))\n",
    "\n",
    "#Constraints\n",
    "\n",
    "# le meme point ne peut pas etre son propre predecesseur / successeur \n",
    "for i=1:nb_noeuds\n",
    "    for k=1:nb_mag\n",
    "        @constraint(model, x[i, i, k] == 0)\n",
    "    end\n",
    "end\n",
    "\n",
    "# chaque point i possede un seul successeur\n",
    "for i=1:nb_noeuds\n",
    "    for k=1:nb_mag\n",
    "       @constraint(model, sum(x[i, 1:nb_noeuds, k]) == 1)\n",
    "    end\n",
    "end\n",
    "\n",
    "# chaque point j possede un seul predecesseur\n",
    "for j=1:nb_noeuds\n",
    "    for k=1:nb_mag\n",
    "        @constraint(model, sum(x[1:nb_noeuds, j, k]) == 1)\n",
    "    end\n",
    "end\n",
    "\n",
    "# pas d'aller retour\n",
    "for i=1:nb_noeuds\n",
    "    for j=1:nb_noeuds\n",
    "        for k=1:nb_mag\n",
    "            @constraint(model, x[i, j, k] + x[j, i, k] <= 1)\n",
    "        end\n",
    "    end\n",
    "end\n",
    "\n",
    "#\n",
    "for k=1:nb_mag\n",
    "    @constraint(model, )\n",
    "end\n",
    "\n",
    "\n",
    "\n",
    "\n",
    "    \n"
   ]
  }
 ],
 "metadata": {
  "kernelspec": {
   "display_name": "Julia 1.5.2",
   "language": "julia",
   "name": "julia-1.5"
  },
  "language_info": {
   "file_extension": ".jl",
   "mimetype": "application/julia",
   "name": "julia",
   "version": "1.5.2"
  }
 },
 "nbformat": 4,
 "nbformat_minor": 4
}
