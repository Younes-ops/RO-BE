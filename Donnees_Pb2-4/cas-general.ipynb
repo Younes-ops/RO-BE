{
 "cells": [
  {
   "cell_type": "code",
   "execution_count": 45,
   "metadata": {},
   "outputs": [
    {
     "data": {
      "text/plain": [
       "(5, 2, 1, 6, Array{Float64,N} where N[[15.0, 10.0]], Array{Float64,N} where N[[1.0, 0.0], [0.0, 3.0], [2.0, 1.0], [3.0, 2.0], [4.0, 4.0]], Array{Float64,N} where N[[0.0, 1.0, 1.0, 7.0, 7.0, 8.0], [1.0, 0.0, 1.0, 6.0, 5.0, 7.0], [1.0, 1.0, 0.0, 5.0, 6.0, 7.0], [7.0, 6.0, 5.0, 0.0, 1.0, 1.0], [7.0, 5.0, 6.0, 1.0, 0.0, 1.0], [8.0, 7.0, 7.0, 1.0, 1.0, 0.0]])"
      ]
     },
     "execution_count": 45,
     "metadata": {},
     "output_type": "execute_result"
    }
   ],
   "source": [
    "#open data\n",
    "include(\"2_4.jl\")\n",
    "inputfilepath = \"data_2-4\"\n",
    "inputfilename = \"Data_test_5_1_2.txt\"\n",
    "nb_dem, nb_prod, nb_mag, nb_noeuds, matrice_S, matrice_Q, matrice_R = read_data_24(inputfilepath, inputfilename)"
   ]
  },
  {
   "cell_type": "code",
   "execution_count": 47,
   "metadata": {},
   "outputs": [
    {
     "name": "stdout",
     "output_type": "stream",
     "text": [
      "Welcome to the CBC MILP Solver \n",
      "Version: 2.10.3 \n",
      "Build Date: Jan  1 1970 \n",
      "\n",
      "command line - Cbc_C_Interface -solve -quit (default strategy 1)\n",
      "Continuous objective value is 6 - 0.00 seconds\n",
      "Cgl0004I processed model has 33 rows, 30 columns (30 integer (30 of which binary)) and 120 elements\n",
      "Cbc0012I Integer solution of 6 found by DiveCoefficient after 0 iterations and 0 nodes (0.00 seconds)\n",
      "Cbc0001I Search completed - best objective 6, took 0 iterations and 0 nodes (0.01 seconds)\n",
      "Cbc0035I Maximum depth 0, 0 variables fixed on reduced cost\n",
      "Cuts at root node changed objective from 6 to 6\n",
      "Probing was tried 0 times and created 0 cuts of which 0 were active after adding rounds of cuts (0.000 seconds)\n",
      "Gomory was tried 0 times and created 0 cuts of which 0 were active after adding rounds of cuts (0.000 seconds)\n",
      "Knapsack was tried 0 times and created 0 cuts of which 0 were active after adding rounds of cuts (0.000 seconds)\n",
      "Clique was tried 0 times and created 0 cuts of which 0 were active after adding rounds of cuts (0.000 seconds)\n",
      "MixedIntegerRounding2 was tried 0 times and created 0 cuts of which 0 were active after adding rounds of cuts (0.000 seconds)\n",
      "FlowCover was tried 0 times and created 0 cuts of which 0 were active after adding rounds of cuts (0.000 seconds)\n",
      "TwoMirCuts was tried 0 times and created 0 cuts of which 0 were active after adding rounds of cuts (0.000 seconds)\n",
      "ZeroHalf was tried 0 times and created 0 cuts of which 0 were active after adding rounds of cuts (0.000 seconds)\n",
      "\n",
      "Result - Optimal solution found\n",
      "\n",
      "Objective value:                6.00000000\n",
      "Enumerated nodes:               0\n",
      "Total iterations:               0\n",
      "Time (CPU seconds):             0.01\n",
      "Time (Wallclock seconds):       0.01\n",
      "\n",
      "Total time (CPU seconds):       0.01   (Wallclock seconds):       0.01\n",
      "\n"
     ]
    }
   ],
   "source": [
    "using Cbc\n",
    "using JuMP\n",
    "\n",
    "# set optimizer\n",
    "model = Model(Cbc.Optimizer)\n",
    "\n",
    "# define variables\n",
    "@variable(model, x[1:nb_noeuds, 1:nb_noeuds, 1:nb_mag] >= 0, Int)\n",
    "@variable(model, A[1:nb_mag, 1:nb_prod, 1:nb_dem] >= 0, Int)\n",
    "\n",
    "# define objective function\n",
    "# x[i, j, k] = 1 si le livreur k traverse le chemin v(i, j) | 0 sinon\n",
    "@objective(model, Min, sum(sum(sum(x[i, j, k] * matrice_R[i][j] for i in 1:nb_noeuds) for j in 1:nb_noeuds) for k in 1:nb_mag))\n",
    "\n",
    "#Constraints\n",
    "\n",
    "# le meme point ne peut pas etre son propre predecesseur / successeur \n",
    "for i=1:nb_noeuds\n",
    "    for k=1:nb_mag\n",
    "        @constraint(model, x[i, i, k] == 0)\n",
    "    end\n",
    "end\n",
    "\n",
    "# chaque point i possede un seul successeur\n",
    "for i=1:nb_noeuds\n",
    "    for k=1:nb_mag\n",
    "       @constraint(model, sum(x[i, 1:nb_noeuds, k]) == 1)\n",
    "    end\n",
    "end\n",
    "\n",
    "# chaque point j possede un seul predecesseur\n",
    "for j=1:nb_noeuds\n",
    "    for k=1:nb_mag\n",
    "        @constraint(model, sum(x[1:nb_noeuds, j, k]) == 1)\n",
    "    end\n",
    "end\n",
    "\n",
    "# pas d'aller retour\n",
    "for i=1:nb_noeuds\n",
    "    for j=1:nb_noeuds\n",
    "        for k=1:nb_mag\n",
    "            @constraint(model, x[i, j, k] + x[j, i, k] <= 1)\n",
    "        end\n",
    "    end\n",
    "end\n",
    "\n",
    "# pas de transitions entre les magasins\n",
    "for i in 1:nb_mag\n",
    "    for j in 1:nb_mag\n",
    "        for k in 1:nb_mag\n",
    "            @constraint(model, x[i, j, k] == 0)\n",
    "        end\n",
    "    end \n",
    "end\n",
    "\n",
    "# Aucun magasin ne peut livrer plus que ce qu'il a en stock\n",
    "for i in 1:nb_mag\n",
    "    for j in 1:nb_prod\n",
    "        @constraint(model,  sum(A[i,j,k] for k in 1:nb_dem) <= matrice_S[i][j])\n",
    "    end\n",
    "end\n",
    "\n",
    "# Le nombre total demandé par chaque client\n",
    "for j in 1:nb_prod\n",
    "    for k in 1:nb_dem\n",
    "        @constraint(model,  sum(A[i,j,k] for i in 1:nb_mag ) == matrice_Q[k][j])\n",
    "    end\n",
    "end\n",
    "\n",
    "# un livreur ne peut pas servir autre que ses clients\n",
    "for k in 1:nb_dem\n",
    "    for i in 1:nb_mag\n",
    "        @constraint(model, sum(A[i, j, k] for j in 1:nb_prod) >= sum(x[k + nb_mag, l, i] for l in 1:nb_noeuds ))\n",
    "        @constraint(model, sum(A[i, j, k] for j in 1:nb_prod) >= sum(x[l, k + nb_mag, i] for l in 1:nb_noeuds ))\n",
    "    end\n",
    "end\n",
    "\n",
    "\n",
    "optimize!(model)"
   ]
  },
  {
   "cell_type": "code",
   "execution_count": 48,
   "metadata": {},
   "outputs": [
    {
     "name": "stdout",
     "output_type": "stream",
     "text": [
      "\t le livreur 1 traverse 1 vers 2\n",
      "\t le livreur 1 traverse 2 vers 3\n",
      "\t le livreur 1 traverse 3 vers 1\n",
      "\t le livreur 1 traverse 4 vers 5\n",
      "\t le livreur 1 traverse 5 vers 6\n",
      "\t le livreur 1 traverse 6 vers 4\n",
      "\t le client 1 prend 1.0 du F1 a partir du magasin 1\n",
      "\t le client 3 prend 2.0 du F1 a partir du magasin 1\n",
      "\t le client 4 prend 3.0 du F1 a partir du magasin 1\n",
      "\t le client 5 prend 4.0 du F1 a partir du magasin 1\n",
      "\t le client 2 prend 3.0 du F2 a partir du magasin 1\n",
      "\t le client 3 prend 1.0 du F2 a partir du magasin 1\n",
      "\t le client 4 prend 2.0 du F2 a partir du magasin 1\n",
      "\t le client 5 prend 4.0 du F2 a partir du magasin 1\n"
     ]
    }
   ],
   "source": [
    "for i in 1:nb_noeuds\n",
    "    for j in 1:nb_noeuds\n",
    "        for k in 1:nb_mag \n",
    "           if (value(x[i,j,k]) != 0)\n",
    "                println(\"\\t le livreur $k traverse $i vers $j\")\n",
    "            end \n",
    "        end\n",
    "    end \n",
    "end\n",
    "for i in 1:nb_mag\n",
    "    for j in 1:nb_prod\n",
    "        for k in 1:nb_dem\n",
    "            if (value(A[i,j,k])) != 0\n",
    "                println(\"\\t le client $k prend $(value(A[i,j,k])) du F$j a partir du magasin $i\")\n",
    "            end\n",
    "        end\n",
    "    end\n",
    "end"
   ]
  }
 ],
 "metadata": {
  "kernelspec": {
   "display_name": "Julia 1.5.2",
   "language": "julia",
   "name": "julia-1.5"
  },
  "language_info": {
   "file_extension": ".jl",
   "mimetype": "application/julia",
   "name": "julia",
   "version": "1.5.2"
  }
 },
 "nbformat": 4,
 "nbformat_minor": 4
}
