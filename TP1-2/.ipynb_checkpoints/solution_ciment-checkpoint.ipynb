{
 "cells": [
  {
   "cell_type": "markdown",
   "metadata": {},
   "source": [
    "Exemple de modèle et résolution du problème de Fabrication du ciment"
   ]
  },
  {
   "cell_type": "code",
   "execution_count": null,
   "metadata": {},
   "outputs": [],
   "source": [
    "#importer les packages utiles, le manager de package Pkg etant un package\n",
    "import Pkg; Pkg.add(\"Cbc\")\n",
    "Pkg.add(\"JuMP\")"
   ]
  },
  {
   "cell_type": "code",
   "execution_count": null,
   "metadata": {},
   "outputs": [],
   "source": [
    "# fonctionne pour JuMP version 0.21.5\n",
    "using Cbc\n",
    "using JuMP\n",
    "\n",
    "# data\n",
    "N = 2 # nombre de ciments disponibles\n",
    "c = [50,70] # prix de vente par ciment\n",
    "b = [360,480] # temps de disponibilité du four et de l'atelier\n",
    "A = [40 12;20 30] # temps nécessaire de calcination (four) et de broyage (atelier) par ciment\n",
    "\n",
    "# set optimizer\n",
    "model = Model(Cbc.Optimizer)\n",
    "\n",
    "# define variables\n",
    "@variable(model, ciment[1:N] >= 0)\n",
    "\n",
    "# define objective function\n",
    "@objective(model, Max, sum(c[i]*ciment[i] for i in 1:N))\n",
    "\n",
    "# define constraints\n",
    "for i in 1:length(b)\n",
    "    @constraint(model, sum(A[i,j]*ciment[j] for j in 1:N) <= b[i])\n",
    "end\n",
    "\n",
    "# run optimization\n",
    "optimize!(model)\n"
   ]
  },
  {
   "cell_type": "code",
   "execution_count": null,
   "metadata": {},
   "outputs": [],
   "source": [
    "# print solution\n",
    "println(\"Solution obtenue:\")\n",
    "println(\"\\t benefice = $(objective_value(model))\")\n",
    "for i in 1:N\n",
    "    println(\"\\t quantite de ciment $i = $(value(ciment[i]))\")\n",
    "end"
   ]
  },
  {
   "cell_type": "code",
   "execution_count": null,
   "metadata": {},
   "outputs": [],
   "source": [
    "#Cas 1:\n",
    "\n",
    "using Cbc\n",
    "using JuMP\n",
    "\n",
    "C = [ 1 1; 2 3 ; 3 2 ]\n",
    "A = zeros(3;2;2)\n",
    "\n",
    "# set optimizer\n",
    "model = Model(Cbc.Optimizer)\n",
    "\n",
    "# define variables\n",
    "@variable(model, A[1:3;1:2;1:2] >= 0)\n",
    "\n",
    "# define objective function\n",
    "@objective(model, Min, sum(sum( sum(c[i,j]*A[i,j,k] for k in 1:2)for i in 1:2)) for j in 1:2)"
   ]
  }
 ],
 "metadata": {
  "kernelspec": {
   "display_name": "Julia 1.5.2",
   "language": "julia",
   "name": "julia-1.5"
  },
  "language_info": {
   "file_extension": ".jl",
   "mimetype": "application/julia",
   "name": "julia",
   "version": "1.5.2"
  }
 },
 "nbformat": 4,
 "nbformat_minor": 4
}
