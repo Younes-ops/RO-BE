{
 "cells": [
  {
   "cell_type": "code",
   "execution_count": 60,
   "metadata": {},
   "outputs": [
    {
     "name": "stdout",
     "output_type": "stream",
     "text": [
      "Welcome to the CBC MILP Solver \n",
      "Version: 2.10.3 \n",
      "Build Date: Jan  1 1970 \n",
      "\n",
      "command line - Cbc_C_Interface -solve -quit (default strategy 1)\n",
      "Continuous objective value is 2.38788e+07 - 0.00 seconds\n",
      "Cgl0004I processed model has 2 rows, 2 columns (2 integer (0 of which binary)) and 4 elements\n",
      "Cbc0012I Integer solution of -23875407 found by DiveCoefficient after 0 iterations and 0 nodes (0.00 seconds)\n",
      "Cbc0006I The LP relaxation is infeasible or too expensive\n",
      "Cbc0013I At root node, 0 cuts changed objective from -23878813 to -23878813 in 1 passes\n",
      "Cbc0014I Cut generator 0 (Probing) - 0 row cuts average 0.0 elements, 2 column cuts (2 active)  in 0.000 seconds - new frequency is 1\n",
      "Cbc0014I Cut generator 1 (Gomory) - 0 row cuts average 0.0 elements, 0 column cuts (0 active)  in 0.000 seconds - new frequency is -100\n",
      "Cbc0014I Cut generator 2 (Knapsack) - 0 row cuts average 0.0 elements, 0 column cuts (0 active)  in 0.000 seconds - new frequency is -100\n",
      "Cbc0014I Cut generator 3 (Clique) - 0 row cuts average 0.0 elements, 0 column cuts (0 active)  in 0.000 seconds - new frequency is -100\n",
      "Cbc0014I Cut generator 4 (MixedIntegerRounding2) - 0 row cuts average 0.0 elements, 0 column cuts (0 active)  in 0.000 seconds - new frequency is -100\n",
      "Cbc0014I Cut generator 5 (FlowCover) - 0 row cuts average 0.0 elements, 0 column cuts (0 active)  in 0.000 seconds - new frequency is -100\n",
      "Cbc0014I Cut generator 6 (TwoMirCuts) - 0 row cuts average 0.0 elements, 0 column cuts (0 active)  in 0.000 seconds - new frequency is -100\n",
      "Cbc0014I Cut generator 7 (ZeroHalf) - 0 row cuts average 0.0 elements, 0 column cuts (0 active)  in 0.000 seconds - new frequency is -100\n",
      "Cbc0001I Search completed - best objective -23875407, took 0 iterations and 0 nodes (0.00 seconds)\n",
      "Cbc0035I Maximum depth 0, 0 variables fixed on reduced cost\n",
      "Cuts at root node changed objective from -2.38788e+07 to -2.38788e+07\n",
      "Probing was tried 1 times and created 2 cuts of which 0 were active after adding rounds of cuts (0.000 seconds)\n",
      "Gomory was tried 0 times and created 0 cuts of which 0 were active after adding rounds of cuts (0.000 seconds)\n",
      "Knapsack was tried 0 times and created 0 cuts of which 0 were active after adding rounds of cuts (0.000 seconds)\n",
      "Clique was tried 0 times and created 0 cuts of which 0 were active after adding rounds of cuts (0.000 seconds)\n",
      "MixedIntegerRounding2 was tried 0 times and created 0 cuts of which 0 were active after adding rounds of cuts (0.000 seconds)\n",
      "FlowCover was tried 0 times and created 0 cuts of which 0 were active after adding rounds of cuts (0.000 seconds)\n",
      "TwoMirCuts was tried 0 times and created 0 cuts of which 0 were active after adding rounds of cuts (0.000 seconds)\n",
      "ZeroHalf was tried 0 times and created 0 cuts of which 0 were active after adding rounds of cuts (0.000 seconds)\n",
      "\n",
      "Result - Optimal solution found\n",
      "\n",
      "Objective value:                23875407.00000000\n",
      "Enumerated nodes:               0\n",
      "Total iterations:               0\n",
      "Time (CPU seconds):             0.00\n",
      "Time (Wallclock seconds):       0.00\n",
      "\n",
      "Total time (CPU seconds):       0.00   (Wallclock seconds):       0.00\n",
      "\n"
     ]
    }
   ],
   "source": [
    "using Cbc\n",
    "using JuMP\n",
    "\n",
    "#set optimizer\n",
    "model = Model(Cbc.Optimizer)\n",
    "\n",
    "nb_v = 2\n",
    "hr = 60\n",
    "sqm = 15000\n",
    "\n",
    "#marge de gain\n",
    "G = rand(5000:50000, nb_v, 1)\n",
    "\n",
    "# taux de fabrications par heure\n",
    "H = rand(4:10, nb_v, 1)./100\n",
    "\n",
    "# espace detenue au parking\n",
    "P = rand(10:25, nb_v, 1)\n",
    "\n",
    "# limites sur la demande\n",
    "D = rand(500:800, nb_v, 1)\n",
    "for i in 1:nb_v\n",
    "   x = rand([0, 1, 2, 3, 4])\n",
    "   if x == 0\n",
    "        D[i] = 0\n",
    "   end\n",
    "end\n",
    "\n",
    "# define variables\n",
    "@variable(model, x[1:nb_v] >= 0, Int)\n",
    "\n",
    "# define objective function\n",
    "@objective(model, Max, sum(x[i] * G[i] for i in 1:nb_v))\n",
    "\n",
    "# respecter les heures de travail\n",
    "@constraint(model, sum(x[i] * H[i] for i in 1:nb_v) <= hr)\n",
    "\n",
    "# respecter l'espace du parking\n",
    "@constraint(model, sum(x[i] * P[i] for i in 1:nb_v) <= sqm)\n",
    "\n",
    "# respecter la demande\n",
    "for i in 1:nb_v\n",
    "    if D[i] != 0\n",
    "        @constraint(model, x[i] <= D[i])\n",
    "    end\n",
    "end\n",
    "\n",
    "optimize!(model)"
   ]
  },
  {
   "cell_type": "code",
   "execution_count": 61,
   "metadata": {},
   "outputs": [
    {
     "name": "stdout",
     "output_type": "stream",
     "text": [
      "data\n",
      "\t G : [9083; 36354]\n",
      "\t H : [0.08; 0.09]\n",
      "\t P : [10; 18]\n",
      "\t D : [507; 653]\n"
     ]
    }
   ],
   "source": [
    "println(\"data\")\n",
    "println(\"\\t G : $G\")\n",
    "println(\"\\t H : $H\")\n",
    "println(\"\\t P : $P\")\n",
    "println(\"\\t D : $D\")"
   ]
  },
  {
   "cell_type": "code",
   "execution_count": 62,
   "metadata": {},
   "outputs": [
    {
     "name": "stdout",
     "output_type": "stream",
     "text": [
      "solution\n",
      "\t 15.0\n",
      "\t 653.0\n"
     ]
    }
   ],
   "source": [
    "println(\"solution\")\n",
    "for i in 1:nb_v\n",
    "   println(\"\\t $(value(x[i]))\")\n",
    "end"
   ]
  }
 ],
 "metadata": {
  "kernelspec": {
   "display_name": "Julia 1.5.2",
   "language": "julia",
   "name": "julia-1.5"
  },
  "language_info": {
   "file_extension": ".jl",
   "mimetype": "application/julia",
   "name": "julia",
   "version": "1.5.2"
  }
 },
 "nbformat": 4,
 "nbformat_minor": 4
}
