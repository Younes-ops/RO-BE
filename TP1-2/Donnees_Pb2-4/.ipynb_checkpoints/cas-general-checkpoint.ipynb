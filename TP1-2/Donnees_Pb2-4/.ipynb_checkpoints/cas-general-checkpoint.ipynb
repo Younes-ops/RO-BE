{
 "cells": [
  {
   "cell_type": "code",
   "execution_count": 48,
   "metadata": {},
   "outputs": [
    {
     "data": {
      "text/plain": [
       "(5, 3, 2, 7, Array{Float64,N} where N[[9.0, 8.0, 6.0], [10.0, 6.0, 7.0]], Array{Float64,N} where N[[3.0, 1.0, 3.0], [4.0, 4.0, 1.0], [3.0, 1.0, 3.0], [3.0, 3.0, 1.0], [4.0, 3.0, 3.0]], Array{Float64,N} where N[[0.0, 570.0, 630.0, 503.0, 113.0, 438.0, 654.0], [570.0, 0.0, 68.0, 225.0, 460.0, 178.0, 401.0], [630.0, 68.0, 0.0, 285.0, 523.0, 246.0, 381.0], [503.0, 225.0, 285.0, 0.0, 392.0, 100.0, 600.0], [113.0, 460.0, 523.0, 392.0, 0.0, 325.0, 590.0], [438.0, 178.0, 246.0, 100.0, 325.0, 0.0, 512.0], [654.0, 401.0, 381.0, 600.0, 590.0, 512.0, 0.0]])"
      ]
     },
     "execution_count": 48,
     "metadata": {},
     "output_type": "execute_result"
    }
   ],
   "source": [
    "#open data\n",
    "include(\"2_4.jl\")\n",
    "inputfilepath = \"data_2-4\"\n",
    "inputfilename = \"Data_test_5_2_3.txt\"\n",
    "nb_dem, nb_prod, nb_mag, nb_noeuds, matrice_S, matrice_Q, matrice_R = read_data_24(inputfilepath, inputfilename)"
   ]
  },
  {
   "cell_type": "code",
   "execution_count": 80,
   "metadata": {},
   "outputs": [
    {
     "name": "stdout",
     "output_type": "stream",
     "text": [
      "Welcome to the CBC MILP Solver \n",
      "Version: 2.10.3 \n",
      "Build Date: Jan  1 1970 \n",
      "\n",
      "command line - Cbc_C_Interface -solve -quit (default strategy 1)\n",
      "Continuous objective value is 3732 - 0.00 seconds\n",
      "Cgl0004I processed model has 68 rows, 80 columns (80 integer (80 of which binary)) and 240 elements\n",
      "Cbc0012I Integer solution of 3732 found by DiveCoefficient after 0 iterations and 0 nodes (0.00 seconds)\n",
      "Cbc0001I Search completed - best objective 3732, took 0 iterations and 0 nodes (0.00 seconds)\n",
      "Cbc0035I Maximum depth 0, 0 variables fixed on reduced cost\n",
      "Cuts at root node changed objective from 3732 to 3732\n",
      "Probing was tried 0 times and created 0 cuts of which 0 were active after adding rounds of cuts (0.000 seconds)\n",
      "Gomory was tried 0 times and created 0 cuts of which 0 were active after adding rounds of cuts (0.000 seconds)\n",
      "Knapsack was tried 0 times and created 0 cuts of which 0 were active after adding rounds of cuts (0.000 seconds)\n",
      "Clique was tried 0 times and created 0 cuts of which 0 were active after adding rounds of cuts (0.000 seconds)\n",
      "MixedIntegerRounding2 was tried 0 times and created 0 cuts of which 0 were active after adding rounds of cuts (0.000 seconds)\n",
      "FlowCover was tried 0 times and created 0 cuts of which 0 were active after adding rounds of cuts (0.000 seconds)\n",
      "TwoMirCuts was tried 0 times and created 0 cuts of which 0 were active after adding rounds of cuts (0.000 seconds)\n",
      "ZeroHalf was tried 0 times and created 0 cuts of which 0 were active after adding rounds of cuts (0.000 seconds)\n",
      "\n",
      "Result - Optimal solution found\n",
      "\n",
      "Objective value:                3732.00000000\n",
      "Enumerated nodes:               0\n",
      "Total iterations:               0\n",
      "Time (CPU seconds):             0.01\n",
      "Time (Wallclock seconds):       0.00\n",
      "\n",
      "Total time (CPU seconds):       0.01   (Wallclock seconds):       0.00\n",
      "\n"
     ]
    }
   ],
   "source": [
    "using Cbc\n",
    "using JuMP\n",
    "\n",
    "# set optimizer\n",
    "model = Model(Cbc.Optimizer)\n",
    "\n",
    "# define variables\n",
    "@variable(model, x[1:nb_noeuds, 1:nb_noeuds, 1:nb_mag] >= 0, Int)\n",
    "@variable(model, A[1:nb_mag, 1:nb_prod, 1:nb_dem] >= 0, Int)\n",
    "\n",
    "# define objective function\n",
    "# x[i, j, k] = 1 si le livreur k traverse le chemin v(i, j) | 0 sinon\n",
    "@objective(model, Min, sum(sum(sum(x[i, j, k] * matrice_R[i][j] for i in 1:nb_noeuds) for j in 1:nb_noeuds) for k in 1:nb_mag))\n",
    "\n",
    "#Constraints\n",
    "\n",
    "# le meme point ne peut pas etre son propre predecesseur / successeur \n",
    "for i=1:nb_noeuds\n",
    "    for k=1:nb_mag\n",
    "        @constraint(model, x[i, i, k] == 0)\n",
    "    end\n",
    "end\n",
    "\n",
    "# chaque point i possede un seul successeur\n",
    "for i=1:nb_noeuds\n",
    "    for k=1:nb_mag\n",
    "       @constraint(model, sum(x[i, 1:nb_noeuds, k]) == 1)\n",
    "    end\n",
    "end\n",
    "\n",
    "# chaque point j possede un seul predecesseur\n",
    "for j=1:nb_noeuds\n",
    "    for k=1:nb_mag\n",
    "        @constraint(model, sum(x[1:nb_noeuds, j, k]) == 1)\n",
    "    end\n",
    "end\n",
    "\n",
    "# pas d'aller retour\n",
    "for i=1:nb_noeuds\n",
    "    for j=1:nb_noeuds\n",
    "        for k=1:nb_mag\n",
    "            @constraint(model, x[i, j, k] + x[j, i, k] <= 1)\n",
    "        end\n",
    "    end\n",
    "end\n",
    "\n",
    "# pas de transitions entre les magasins\n",
    "for i in 1:nb_mag\n",
    "    for j in 1:nb_mag\n",
    "        for k in 1:nb_mag\n",
    "            @constraint(model, x[i, j, k] == 0)\n",
    "        end\n",
    "    end \n",
    "end\n",
    "\n",
    "# Aucun magasin ne peut livrer plus que ce qu'il a en stock\n",
    "for i in 1:nb_mag\n",
    "    for j in 1:nb_prod\n",
    "        @constraint(model,  sum(A[i,j,k] for k in 1:nb_dem) <= matrice_S[i][j])\n",
    "    end\n",
    "end\n",
    "\n",
    "# Le nombre total demandé par chaque client\n",
    "for j in 1:nb_prod\n",
    "    for k in 1:nb_dem\n",
    "        @constraint(model,  sum(A[i,j,k] for i in 1:nb_mag ) == matrice_Q[k][j])\n",
    "    end\n",
    "end\n",
    "\n",
    "#un livreur ne peut pas servir autre que ses clients\n",
    "\n",
    "\n",
    "optimize!(model)"
   ]
  },
  {
   "cell_type": "code",
   "execution_count": 81,
   "metadata": {},
   "outputs": [
    {
     "name": "stdout",
     "output_type": "stream",
     "text": [
      "\t le livreur 1 traverse 1 vers 5\n",
      "\t le livreur 2 traverse 1 vers 5\n",
      "\t le livreur 1 traverse 2 vers 3\n",
      "\t le livreur 2 traverse 2 vers 3\n",
      "\t le livreur 1 traverse 3 vers 7\n",
      "\t le livreur 2 traverse 3 vers 7\n",
      "\t le livreur 1 traverse 4 vers 2\n",
      "\t le livreur 2 traverse 4 vers 2\n",
      "\t le livreur 1 traverse 5 vers 6\n",
      "\t le livreur 2 traverse 5 vers 6\n",
      "\t le livreur 1 traverse 6 vers 4\n",
      "\t le livreur 2 traverse 6 vers 4\n",
      "\t le livreur 1 traverse 7 vers 1\n",
      "\t le livreur 2 traverse 7 vers 1\n"
     ]
    }
   ],
   "source": [
    "for i in 1:nb_noeuds\n",
    "    for j in 1:nb_noeuds\n",
    "        for k in 1:nb_mag \n",
    "           if (value(x[i,j,k]) != 0)\n",
    "                println(\"\\t le livreur $k traverse $i vers $j\")\n",
    "            end \n",
    "        end\n",
    "    end \n",
    "end"
   ]
  }
 ],
 "metadata": {
  "kernelspec": {
   "display_name": "Julia 1.5.2",
   "language": "julia",
   "name": "julia-1.5"
  },
  "language_info": {
   "file_extension": ".jl",
   "mimetype": "application/julia",
   "name": "julia",
   "version": "1.5.2"
  }
 },
 "nbformat": 4,
 "nbformat_minor": 4
}
