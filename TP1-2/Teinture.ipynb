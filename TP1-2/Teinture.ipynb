{
 "cells": [
  {
   "cell_type": "code",
   "execution_count": 22,
   "metadata": {},
   "outputs": [
    {
     "name": "stdout",
     "output_type": "stream",
     "text": [
      "Welcome to the CBC MILP Solver \n",
      "Version: 2.10.3 \n",
      "Build Date: Jan  1 1970 \n",
      "\n",
      "command line - Cbc_C_Interface -solve -quit (default strategy 1)\n",
      "Presolve 0 (-2) rows, 0 (-5) columns and 0 (-10) elements\n",
      "Empty problem - 0 rows, 0 columns and 0 elements\n",
      "Optimal - objective value 260\n",
      "After Postsolve, objective 260, infeasibilities - dual 0 (0), primal 0 (0)\n",
      "Optimal objective 260 - 0 iterations time 0.002, Presolve 0.00\n",
      "Total time (CPU seconds):       0.00   (Wallclock seconds):       0.00\n",
      "\n"
     ]
    }
   ],
   "source": [
    "# Teinture\n",
    "using Cbc\n",
    "using JuMP\n",
    "\n",
    "# data\n",
    "N = rand(1:5) # nombre de produits\n",
    "M =  rand(1:5) # nombre de substances\n",
    "prix = rand(10:50,N) # prix de vente par produit\n",
    "C =100*rand(0:5,M,N) # concentartions des substances dans les produits\n",
    "S_min=100*rand(1:5,M) # Seuil minimal sur les substances\n",
    "S_max=1000*rand(5:10,M)# Seuil maximal sur les substances\n",
    "\n",
    "\n",
    "# set optimizer\n",
    "model = Model(Cbc.Optimizer)\n",
    "\n",
    "# define variables\n",
    "@variable(model, I[1:N] >= 0)\n",
    "\n",
    "# define objective function\n",
    "@objective(model, Min, sum(prix[i]I[i] for i in 1:N))\n",
    "\n",
    "# define constraints\n",
    "\n",
    "#Seuil minimal sur les substances\n",
    "for i in 1:length(M)\n",
    "    @constraint(model, sum(C[i,j]I[j] for j in 1:N) >= S_min[i])\n",
    "end\n",
    "\n",
    "#Seuil maximal sur les substances\n",
    "for i in 1:length(M)\n",
    "    @constraint(model, sum(C[i,j]I[j] for j in 1:N) >= S_max[i])\n",
    "end\n",
    "\n",
    "# run optimization\n",
    "optimize!(model)"
   ]
  },
  {
   "cell_type": "code",
   "execution_count": 24,
   "metadata": {},
   "outputs": [
    {
     "name": "stdout",
     "output_type": "stream",
     "text": [
      "Solution obtenue:\n",
      "\t benefice = 260.0\n",
      "\t quantite de produit 1 = 0.0\n",
      "\t quantite de produit 2 = 0.0\n",
      "\t quantite de produit 3 = 0.0\n",
      "\t quantite de produit 4 = 20.0\n",
      "\t quantite de produit 5 = 0.0\n"
     ]
    }
   ],
   "source": [
    "# print solution\n",
    "println(\"Solution obtenue:\")\n",
    "println(\"\\t benefice = $(objective_value(model))\")\n",
    "for i in 1:N\n",
    "    println(\"\\t quantite de produit $i = $(value(I[i]))\")\n",
    "end"
   ]
  }
 ],
 "metadata": {
  "kernelspec": {
   "display_name": "Julia 1.5.2",
   "language": "julia",
   "name": "julia-1.5"
  },
  "language_info": {
   "file_extension": ".jl",
   "mimetype": "application/julia",
   "name": "julia",
   "version": "1.5.2"
  }
 },
 "nbformat": 4,
 "nbformat_minor": 4
}
