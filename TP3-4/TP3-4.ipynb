{
 "cells": [
  {
   "cell_type": "code",
   "execution_count": 53,
   "metadata": {},
   "outputs": [
    {
     "data": {
      "text/plain": [
       "BellmanFord (generic function with 1 method)"
      ]
     },
     "execution_count": 53,
     "metadata": {},
     "output_type": "execute_result"
    }
   ],
   "source": [
    "# 1.1 calcul du plus court chemin entre deux sommmets d'un graphe\n",
    "# Input: Graph G (adjacency matrix), source vertex s\n",
    "function BellmanFord(G, s)\n",
    "    nbv = size(G)[1]\n",
    "    # dans chaque ligne i  \n",
    "    # dis[i, 1] correspond au cout min entre s et le noeud i \n",
    "    # dis[i, 2] correspond au predecesseur par lequel on trouve le cout min\n",
    "    dis = zeros(nbv, 2) \n",
    "    \n",
    "    for i in 1:nbv\n",
    "        dis[i, 1] = Inf\n",
    "        dis[i, 2] = -1\n",
    "    end\n",
    "    dis[s, 1] = 0\n",
    "    \n",
    "    for k in 1:(nbv - 1)\n",
    "        # edge (i, j)\n",
    "        for i in 1:nbv\n",
    "            for j in 1:nbv\n",
    "                if (G[i, j] != 0) && (dis[j, 1] > (dis[i, 1] + G[i, j]))\n",
    "                    dis[j, 1] = dis[i, 1] + G[i,j]\n",
    "                    dis[j, 2] = i\n",
    "                end\n",
    "            end\n",
    "        end\n",
    "    end\n",
    "    return dis\n",
    "end    "
   ]
  },
  {
   "cell_type": "code",
   "execution_count": 54,
   "metadata": {},
   "outputs": [
    {
     "data": {
      "text/plain": [
       "affres (generic function with 1 method)"
      ]
     },
     "execution_count": 54,
     "metadata": {},
     "output_type": "execute_result"
    }
   ],
   "source": [
    "function affres(dis, s, d)\n",
    "    j = d\n",
    "    while j != s \n",
    "        a = Int(dis[j, 2])\n",
    "        println(\"On va de $j à $a\")\n",
    "        j = a\n",
    "    end\n",
    "end"
   ]
  },
  {
   "cell_type": "code",
   "execution_count": 55,
   "metadata": {},
   "outputs": [
    {
     "name": "stdout",
     "output_type": "stream",
     "text": [
      "On va de 6 à 4\n",
      "On va de 4 à 3\n",
      "On va de 3 à 2\n",
      "On va de 2 à 1\n"
     ]
    }
   ],
   "source": [
    "G = [0 3 0 0 5 0;\n",
    "     0 0 4 0 0 0;\n",
    "     0 0 0 2 0 0;\n",
    "     0 0 0 0 0 3;\n",
    "     0 (-1) 0 9 0 0;\n",
    "     0 0 0 0 0 0]\n",
    "dis = BellmanFord(G, 1)\n",
    "affres(dis, 1, 6)"
   ]
  },
  {
   "cell_type": "code",
   "execution_count": 56,
   "metadata": {},
   "outputs": [
    {
     "data": {
      "text/plain": [
       "5×2 Array{Float64,2}:\n",
       "  0.0  -1.0\n",
       " -1.0   1.0\n",
       "  2.0   2.0\n",
       " -2.0   5.0\n",
       "  1.0   2.0"
      ]
     },
     "execution_count": 56,
     "metadata": {},
     "output_type": "execute_result"
    }
   ],
   "source": [
    "G1 = [0 (-1) 4 0 0;\n",
    "      0 0 3 2 2;\n",
    "      0 0 0 0 0;\n",
    "      0 1 5 0 0;\n",
    "      0 0 0 (-3) 0]\n",
    "dis2 = BellmanFord(G1, 1)"
   ]
  },
  {
   "cell_type": "code",
   "execution_count": 58,
   "metadata": {},
   "outputs": [
    {
     "data": {
      "text/plain": [
       "BellmanFord2 (generic function with 1 method)"
      ]
     },
     "execution_count": 58,
     "metadata": {},
     "output_type": "execute_result"
    }
   ],
   "source": [
    "# 1.2 calcul du plus long chemin entre deux sommmets d'un graphe\n",
    "# Input: Graph G (adjacency matrix), source vertex s\n",
    "function BellmanFord2(G, s)\n",
    "    nbv = size(G)[1]\n",
    "    # dans chaque ligne i  \n",
    "    # dis[i, 1] correspond au cout min entre s et le noeud i \n",
    "    # dis[i, 2] correspond au predecesseur par lequel on trouve le cout min\n",
    "    dis = zeros(nbv, 2) \n",
    "    \n",
    "    for i in 1:nbv\n",
    "        dis[i, 1] = -Inf\n",
    "        dis[i, 2] = -1\n",
    "    end\n",
    "    dis[s, 1] = 0\n",
    "    \n",
    "    for k in 1:(nbv - 1)\n",
    "        # edge (i, j)\n",
    "        for i in 1:nbv\n",
    "            for j in 1:nbv\n",
    "                if (G[i, j] != 0) && (dis[j, 1] < (dis[i, 1] + G[i, j]))\n",
    "                    dis[j, 1] = dis[i, 1] + G[i,j]\n",
    "                    dis[j, 2] = i\n",
    "                end\n",
    "            end\n",
    "        end\n",
    "    end\n",
    "    return dis\n",
    "end"
   ]
  },
  {
   "cell_type": "code",
   "execution_count": 59,
   "metadata": {},
   "outputs": [
    {
     "name": "stdout",
     "output_type": "stream",
     "text": [
      "On va de 6 à 4\n",
      "On va de 4 à 5\n",
      "On va de 5 à 1\n"
     ]
    }
   ],
   "source": [
    "G = [0 3 0 0 5 0;\n",
    "     0 0 4 0 0 0;\n",
    "     0 0 0 2 0 0;\n",
    "     0 0 0 0 0 3;\n",
    "     0 (-1) 0 9 0 0;\n",
    "     0 0 0 0 0 0]\n",
    "dis = BellmanFord2(G, 1)\n",
    "affres(dis, 1, 6)"
   ]
  },
  {
   "cell_type": "code",
   "execution_count": 60,
   "metadata": {},
   "outputs": [
    {
     "data": {
      "text/plain": [
       "5×2 Array{Float64,2}:\n",
       "  0.0  -1.0\n",
       " 11.0   4.0\n",
       " 15.0   4.0\n",
       " 10.0   2.0\n",
       " 10.0   2.0"
      ]
     },
     "execution_count": 60,
     "metadata": {},
     "output_type": "execute_result"
    }
   ],
   "source": [
    "G1 = [0 (-1) 4 0 0;\n",
    "      0 0 3 2 2;\n",
    "      0 0 0 0 0;\n",
    "      0 1 5 0 0;\n",
    "      0 0 0 (-3) 0]\n",
    "dis2 = BellmanFord2(G1, 1)"
   ]
  },
  {
   "cell_type": "code",
   "execution_count": 91,
   "metadata": {},
   "outputs": [
    {
     "data": {
      "text/plain": [
       "BellmanFord3 (generic function with 1 method)"
      ]
     },
     "execution_count": 91,
     "metadata": {},
     "output_type": "execute_result"
    }
   ],
   "source": [
    "# 2.1 calculer le chemin de vitesse max entre deux sommet d'un graphe\n",
    "# Input: Graph G (adjacency matrix), source vertex s\n",
    "# Output: path that maximises speed to all vertices from s\n",
    "function BellmanFord3(G, s)\n",
    "    nbv = size(G)[1]\n",
    "    # dans chaque ligne i  \n",
    "    # vts[i, 1] correspond au vmin entre s et le noeud i \n",
    "    # vts[i, 2] correspond au predecesseur par lequel on trouve le chemin qui maximise vmin\n",
    "    vts = zeros(nbv, 2) \n",
    "    for i in 1:nbv\n",
    "        vts[i, 1] = 0\n",
    "        vts[i, 2] = -1\n",
    "    end\n",
    "    vts[s, 1] = Inf\n",
    "    \n",
    "    for k in 1:(nbv - 1)\n",
    "        # edge (i, j)\n",
    "        for i in 1:nbv\n",
    "            for j in 1:nbv\n",
    "                if (G[i, j] != 0) && (vts[i, 1] > vts[j, 1])\n",
    "                    if (vts[j, 1] != Inf) && (vts[j, 1] > G[i, j])\n",
    "                        vts[j, 1] = G[i, j]\n",
    "                    end\n",
    "                    vts[j, 1] = vts[i, 1]\n",
    "                    vts[j, 2] = i\n",
    "                end\n",
    "            end\n",
    "        end\n",
    "    end\n",
    "    return vts\n",
    "end    "
   ]
  },
  {
   "cell_type": "code",
   "execution_count": 92,
   "metadata": {
    "scrolled": false
   },
   "outputs": [
    {
     "data": {
      "text/plain": [
       "7×2 Array{Float64,2}:\n",
       " Inf  -1.0\n",
       " Inf   1.0\n",
       " Inf   2.0\n",
       " Inf   3.0\n",
       " Inf   1.0\n",
       " Inf   3.0\n",
       " Inf   1.0"
      ]
     },
     "execution_count": 92,
     "metadata": {},
     "output_type": "execute_result"
    }
   ],
   "source": [
    "P = [   0 5 0 0 1 0 3; \n",
    "        5 0 4 0 0 0 0;\n",
    "        0 4 0 1 2 2 0; \n",
    "        0 0 1 0 0 2 0; \n",
    "        1 0 2 0 0 3 5; \n",
    "        0 0 2 2 3 0 0; \n",
    "        3 0 0 0 5 0 0]\n",
    "vts = BellmanFord3(P, 1)\n"
   ]
  },
  {
   "cell_type": "code",
   "execution_count": 124,
   "metadata": {},
   "outputs": [
    {
     "data": {
      "text/plain": [
       "6×6 Array{Float64,2}:\n",
       " 0.0  0.0  0.0  0.0  0.0  0.0\n",
       " 0.0  0.0  0.0  0.0  0.0  0.0\n",
       " 0.0  0.0  0.0  0.0  0.0  0.0\n",
       " 0.0  0.0  0.0  0.0  0.0  0.0\n",
       " 0.0  0.0  0.0  0.0  0.0  0.0\n",
       " 0.0  0.0  0.0  0.0  0.0  0.0"
      ]
     },
     "execution_count": 124,
     "metadata": {},
     "output_type": "execute_result"
    }
   ],
   "source": [
    "A = zeros(size(A))"
   ]
  },
  {
   "cell_type": "code",
   "execution_count": 28,
   "metadata": {},
   "outputs": [
    {
     "data": {
      "text/plain": [
       "1×6 Array{Float64,2}:\n",
       " 0.0  0.0  0.0  0.0  0.0  0.0"
      ]
     },
     "execution_count": 28,
     "metadata": {},
     "output_type": "execute_result"
    }
   ],
   "source": [
    "dis = zeros(1,6)"
   ]
  },
  {
   "cell_type": "code",
   "execution_count": 49,
   "metadata": {},
   "outputs": [
    {
     "data": {
      "text/plain": [
       "6×2 Array{Float64,2}:\n",
       " 0.0  0.0\n",
       " 0.0  0.0\n",
       " 0.0  0.0\n",
       " 0.0  0.0\n",
       " 0.0  0.0\n",
       " 0.0  0.0"
      ]
     },
     "execution_count": 49,
     "metadata": {},
     "output_type": "execute_result"
    }
   ],
   "source": [
    "dis = zeros(6, 2)"
   ]
  },
  {
   "cell_type": "code",
   "execution_count": 58,
   "metadata": {},
   "outputs": [],
   "source": [
    "    for i in 1:nbv\n",
    "        dis[i, 1] = Inf\n",
    "        dis[i, 2] = -1\n",
    "    end"
   ]
  },
  {
   "cell_type": "code",
   "execution_count": 64,
   "metadata": {},
   "outputs": [
    {
     "data": {
      "text/plain": [
       "6×2 Array{Float64,2}:\n",
       " Inf  -1.0\n",
       " Inf  -1.0\n",
       " Inf  -1.0\n",
       " Inf  -1.0\n",
       " Inf  -1.0\n",
       " Inf  -1.0"
      ]
     },
     "execution_count": 64,
     "metadata": {},
     "output_type": "execute_result"
    }
   ],
   "source": [
    "dis"
   ]
  },
  {
   "cell_type": "code",
   "execution_count": 69,
   "metadata": {},
   "outputs": [
    {
     "data": {
      "text/plain": [
       "3"
      ]
     },
     "execution_count": 69,
     "metadata": {},
     "output_type": "execute_result"
    }
   ],
   "source": [
    "G[1,2]"
   ]
  },
  {
   "cell_type": "code",
   "execution_count": 70,
   "metadata": {},
   "outputs": [
    {
     "data": {
      "text/plain": [
       "false"
      ]
     },
     "execution_count": 70,
     "metadata": {},
     "output_type": "execute_result"
    }
   ],
   "source": [
    "(dis[2, 1] > (dis[1, 1] + G[1,2]))"
   ]
  }
 ],
 "metadata": {
  "kernelspec": {
   "display_name": "Julia 1.5.2",
   "language": "julia",
   "name": "julia-1.5"
  },
  "language_info": {
   "file_extension": ".jl",
   "mimetype": "application/julia",
   "name": "julia",
   "version": "1.5.2"
  }
 },
 "nbformat": 4,
 "nbformat_minor": 4
}
