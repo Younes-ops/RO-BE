{
 "cells": [
  {
   "cell_type": "code",
   "execution_count": 21,
   "metadata": {},
   "outputs": [
    {
     "data": {
      "text/plain": [
       "BellmanFord (generic function with 1 method)"
      ]
     },
     "execution_count": 21,
     "metadata": {},
     "output_type": "execute_result"
    }
   ],
   "source": [
    "# 1.1 calcul du plus court chemin entre deux sommmets d'un graphe\n",
    "# Input: Graph G (adjacency matrix) \n",
    "#        Source vertex s\n",
    "function BellmanFord(G, s)\n",
    "    nbv = size(G)[1]\n",
    "    # dans chaque ligne i  \n",
    "    # dis[i, 1] correspond au cout minimal entre s et le noeud i \n",
    "    # dis[i, 2] correspond au predecesseur par lequel on trouve le cout min\n",
    "    dis = zeros(nbv, 2) \n",
    "    for i in 1:nbv\n",
    "        dis[i, 1] = Inf\n",
    "        dis[i, 2] = -1\n",
    "    end\n",
    "    dis[s, 1] = 0\n",
    "    for k in 1:(nbv - 1)\n",
    "        # edge (i, j)\n",
    "        for i in 1:nbv\n",
    "            for j in 1:nbv\n",
    "                if (G[i, j] != 0) && (dis[j, 1] > (dis[i, 1] + G[i, j]))\n",
    "                    dis[j, 1] = dis[i, 1] + G[i,j]\n",
    "                    dis[j, 2] = i\n",
    "                end\n",
    "            end\n",
    "        end\n",
    "    end\n",
    "    return dis\n",
    "end    "
   ]
  },
  {
   "cell_type": "code",
   "execution_count": 22,
   "metadata": {},
   "outputs": [
    {
     "data": {
      "text/plain": [
       "affres (generic function with 1 method)"
      ]
     },
     "execution_count": 22,
     "metadata": {},
     "output_type": "execute_result"
    }
   ],
   "source": [
    "function affres(dis, s)\n",
    "   println(\"Result :\")\n",
    "   println(\"node     | smallest cost from $s      | previous node\")\n",
    "   println(\"\")\n",
    "   for i in 1:size(dis)[1]\n",
    "        println(\"$i           $(dis[i, 1])                          $(dis[i, 2])\")\n",
    "    end\n",
    "end"
   ]
  },
  {
   "cell_type": "code",
   "execution_count": 23,
   "metadata": {},
   "outputs": [
    {
     "name": "stdout",
     "output_type": "stream",
     "text": [
      "Result :\n",
      "node     | smallest cost from 1      | previous node\n",
      "\n",
      "1           0.0                          -1.0\n",
      "2           3.0                          1.0\n",
      "3           7.0                          2.0\n",
      "4           9.0                          3.0\n",
      "5           5.0                          1.0\n",
      "6           12.0                          4.0\n"
     ]
    }
   ],
   "source": [
    "# exemple du sujet\n",
    "G = [0 3 0 0 5 0;\n",
    "     0 0 4 0 0 0;\n",
    "     0 0 0 2 0 0;\n",
    "     0 0 0 0 0 3;\n",
    "     0 (-1) 0 9 0 0;\n",
    "     0 0 0 0 0 0]\n",
    "dis = BellmanFord(G, 1)\n",
    "affres(dis, 1)"
   ]
  },
  {
   "cell_type": "code",
   "execution_count": 24,
   "metadata": {},
   "outputs": [
    {
     "name": "stdout",
     "output_type": "stream",
     "text": [
      "Result :\n",
      "node     | smallest cost from 1      | previous node\n",
      "\n",
      "1           0.0                          -1.0\n",
      "2           -1.0                          1.0\n",
      "3           2.0                          2.0\n",
      "4           -2.0                          5.0\n",
      "5           1.0                          2.0\n"
     ]
    }
   ],
   "source": [
    "# test1\n",
    "G1 = [0 (-1) 4 0 0;\n",
    "      0 0 3 2 2;\n",
    "      0 0 0 0 0;\n",
    "      0 1 5 0 0;\n",
    "      0 0 0 (-3) 0]\n",
    "dis1 = BellmanFord(G1, 1)\n",
    "affres(dis1, 1)"
   ]
  },
  {
   "cell_type": "code",
   "execution_count": 25,
   "metadata": {},
   "outputs": [
    {
     "name": "stdout",
     "output_type": "stream",
     "text": [
      "Result :\n",
      "node     | smallest cost from 1      | previous node\n",
      "\n",
      "1           0.0                          -1.0\n",
      "2           1.0                          1.0\n",
      "3           3.0                          2.0\n",
      "4           2.0                          1.0\n",
      "5           5.0                          4.0\n"
     ]
    }
   ],
   "source": [
    "# test2\n",
    "G2 = [0 1 0 2 0;\n",
    "      0 0 2 0 0;\n",
    "      0 0 0 2 8;\n",
    "      0 0 2 0 3;\n",
    "      0 0 0 0 0;\n",
    "     ]\n",
    "dis2 = BellmanFord(G2, 1)\n",
    "affres(dis2, 1)"
   ]
  },
  {
   "cell_type": "code",
   "execution_count": 26,
   "metadata": {},
   "outputs": [
    {
     "data": {
      "text/plain": [
       "BellmanFord2 (generic function with 1 method)"
      ]
     },
     "execution_count": 26,
     "metadata": {},
     "output_type": "execute_result"
    }
   ],
   "source": [
    "# 1.2 calcul du plus long chemin entre deux sommmets d'un graphe\n",
    "# Input: Graph G (adjacency matrix) \n",
    "#        Source vertex s\n",
    "function BellmanFord2(G, s)\n",
    "    nbv = size(G)[1]\n",
    "    # dans chaque ligne i  \n",
    "    # dis[i, 1] correspond au cout min entre s et le noeud i \n",
    "    # dis[i, 2] correspond au predecesseur par lequel on trouve le cout min\n",
    "    dis = zeros(nbv, 2) \n",
    "    for i in 1:nbv\n",
    "        dis[i, 1] = -Inf\n",
    "        dis[i, 2] = -1\n",
    "    end\n",
    "    dis[s, 1] = 0\n",
    "    for k in 1:(nbv - 1)\n",
    "        # edge (i, j)\n",
    "        for i in 1:nbv\n",
    "            for j in 1:nbv\n",
    "                if (G[i, j] != 0) && (dis[j, 1] < (dis[i, 1] + G[i, j]))\n",
    "                    dis[j, 1] = dis[i, 1] + G[i,j]\n",
    "                    dis[j, 2] = i\n",
    "                end\n",
    "            end\n",
    "        end\n",
    "    end\n",
    "    return dis\n",
    "end"
   ]
  },
  {
   "cell_type": "code",
   "execution_count": 27,
   "metadata": {},
   "outputs": [
    {
     "data": {
      "text/plain": [
       "affres2 (generic function with 1 method)"
      ]
     },
     "execution_count": 27,
     "metadata": {},
     "output_type": "execute_result"
    }
   ],
   "source": [
    "function affres2(dis, s)\n",
    "   println(\"Result :\")\n",
    "   println(\"node     | biggest cost from $s      | previous node\")\n",
    "   println(\"\")\n",
    "   for i in 1:size(dis)[1]\n",
    "        println(\"$i           $(dis[i, 1])                          $(dis[i, 2])\")\n",
    "    end\n",
    "end"
   ]
  },
  {
   "cell_type": "code",
   "execution_count": 28,
   "metadata": {},
   "outputs": [
    {
     "name": "stdout",
     "output_type": "stream",
     "text": [
      "Result :\n",
      "node     | biggest cost from 1      | previous node\n",
      "\n",
      "1           0.0                          -1.0\n",
      "2           4.0                          5.0\n",
      "3           8.0                          2.0\n",
      "4           14.0                          5.0\n",
      "5           5.0                          1.0\n",
      "6           17.0                          4.0\n"
     ]
    }
   ],
   "source": [
    "# exemple du sujet\n",
    "G = [0 3 0 0 5 0;\n",
    "     0 0 4 0 0 0;\n",
    "     0 0 0 2 0 0;\n",
    "     0 0 0 0 0 3;\n",
    "     0 (-1) 0 9 0 0;\n",
    "     0 0 0 0 0 0]\n",
    "dis = BellmanFord2(G, 1)\n",
    "affres2(dis, 1)"
   ]
  },
  {
   "cell_type": "code",
   "execution_count": 29,
   "metadata": {},
   "outputs": [
    {
     "name": "stdout",
     "output_type": "stream",
     "text": [
      "Result :\n",
      "node     | biggest cost from 1      | previous node\n",
      "\n",
      "1           0.0                          -1.0\n",
      "2           11.0                          4.0\n",
      "3           15.0                          4.0\n",
      "4           10.0                          2.0\n",
      "5           10.0                          2.0\n"
     ]
    }
   ],
   "source": [
    "# test 1\n",
    "G1 = [0 (-1) 4 0 0;\n",
    "      0 0 3 2 2;\n",
    "      0 0 0 0 0;\n",
    "      0 1 5 0 0;\n",
    "      0 0 0 (-3) 0]\n",
    "dis1 = BellmanFord2(G1, 1)\n",
    "affres2(dis1, 1)"
   ]
  },
  {
   "cell_type": "code",
   "execution_count": 30,
   "metadata": {},
   "outputs": [
    {
     "data": {
      "text/plain": [
       "BellmanFord3 (generic function with 1 method)"
      ]
     },
     "execution_count": 30,
     "metadata": {},
     "output_type": "execute_result"
    }
   ],
   "source": [
    "# 2.1 calculer le chemin de vitesse max entre deux sommet d'un graphe\n",
    "# Input: Graph G (adjacency matrix), source vertex s\n",
    "# Output: path that maximises speed to all vertices from s\n",
    "function BellmanFord3(G, s)\n",
    "    nbv = size(G)[1]\n",
    "    # dans chaque ligne i  \n",
    "    # vts[i, 1] correspond au vmin entre s et le noeud i \n",
    "    # vts[i, 2] correspond au predecesseur par lequel on trouve le chemin qui maximise vmin\n",
    "    vts = zeros(nbv, 2) \n",
    "    for i in 1:nbv\n",
    "        vts[i, 1] = -Inf\n",
    "        vts[i, 2] = -1\n",
    "    end\n",
    "    vts[s, 1] = Inf\n",
    "    \n",
    "    for k in 1:(nbv - 1)\n",
    "        # edge (i, j)\n",
    "        for i in 1:nbv\n",
    "            for j in 1:nbv\n",
    "                if (G[i, j] != 0) \n",
    "                    min = vts[i, 1]\n",
    "                    if (G[i, j] < vts[i, 1])\n",
    "                       min = G[i, j] \n",
    "                    end\n",
    "                    if (vts[j, 1] < min)\n",
    "                        vts[j, 1] = min\n",
    "                        vts[j, 2] = i\n",
    "                    end\n",
    "                    \n",
    "                end\n",
    "            end\n",
    "        end\n",
    "    end\n",
    "    return vts\n",
    "end    "
   ]
  },
  {
   "cell_type": "code",
   "execution_count": 31,
   "metadata": {
    "scrolled": false
   },
   "outputs": [
    {
     "data": {
      "text/plain": [
       "7×2 Array{Float64,2}:\n",
       " Inf   -1.0\n",
       "  5.0   1.0\n",
       "  4.0   2.0\n",
       "  2.0   6.0\n",
       "  3.0   7.0\n",
       "  3.0   5.0\n",
       "  3.0   1.0"
      ]
     },
     "execution_count": 31,
     "metadata": {},
     "output_type": "execute_result"
    }
   ],
   "source": [
    "# exemple du sujet\n",
    "P = [   0 5 0 0 1 0 3; \n",
    "        5 0 4 0 0 0 0;\n",
    "        0 4 0 1 2 2 0; \n",
    "        0 0 1 0 0 2 0; \n",
    "        1 0 2 0 0 3 5; \n",
    "        0 0 2 2 3 0 0; \n",
    "        3 0 0 0 5 0 0]\n",
    "vts = BellmanFord3(P, 1)"
   ]
  },
  {
   "cell_type": "code",
   "execution_count": 32,
   "metadata": {},
   "outputs": [
    {
     "data": {
      "text/plain": [
       "13×2 Array{Float64,2}:\n",
       "  0.0        -1.0\n",
       " -0.0202027   1.0\n",
       " -0.0304592   1.0\n",
       " -0.0100503   1.0\n",
       " -0.0610247   2.0\n",
       " -0.0609184   3.0\n",
       " -0.0506619   3.0\n",
       " -0.082621    4.0\n",
       " -0.071075    5.0\n",
       " -0.0708646   7.0\n",
       " -0.0912777   9.0\n",
       " -0.080915   10.0\n",
       " -0.101328   11.0"
      ]
     },
     "execution_count": 32,
     "metadata": {},
     "output_type": "execute_result"
    }
   ],
   "source": [
    "# 2.2 Fiabilité de procédé de fabrication de semi-conducteurs\n",
    "# (a)\n",
    "# exemple du sujet\n",
    "G = [0 0.98 0.97 0.99 0 0 0 0 0 0 0 0 0;\n",
    "     0 0 0 0 0.96 0.95 0 0 0 0 0 0 0;\n",
    "     0 0 0 0 0 0.97 0.98 0 0 0 0 0 0;\n",
    "     0 0 0 0 0 0 0.95 0.93 0 0 0 0 0;\n",
    "     0 0 0 0 0 0 0 0 0.99 0 0 0 0;\n",
    "     0 0 0 0 0 0 0 0 0.96 0 0 0 0;\n",
    "     0 0 0 0 0 0 0 0 0.97 0.98 0 0 0;\n",
    "     0 0 0 0 0 0 0 0 0 0.99 0 0 0;\n",
    "     0 0 0 0 0 0 0 0 0 0 0.98 0.99 0;\n",
    "     0 0 0 0 0 0 0 0 0 0 0.96 0.99 0;\n",
    "     0 0 0 0 0 0 0 0 0 0 0 0 0.99;\n",
    "     0 0 0 0 0 0 0 0 0 0 0 0 0.93;\n",
    "     0 0 0 0 0 0 0 0 0 0 0 0 0\n",
    "    ]\n",
    "for i in 1:size(G)[1]\n",
    "   for j in 1:size(G)[2] \n",
    "        if G[i, j] != 0 \n",
    "            G[i, j] = log(G[i, j])\n",
    "        end\n",
    "   end\n",
    "end\n",
    "prob = BellmanFord2(G, 1)"
   ]
  },
  {
   "cell_type": "code",
   "execution_count": 35,
   "metadata": {},
   "outputs": [
    {
     "data": {
      "text/plain": [
       "BellmanFord4 (generic function with 1 method)"
      ]
     },
     "execution_count": 35,
     "metadata": {},
     "output_type": "execute_result"
    }
   ],
   "source": [
    "# 2.2 Fiabilité de procédé de fabrication de semi-conducteurs\n",
    "# (b)\n",
    "# Input: Graph G (adjacency matrix), source vertex s\n",
    "# Output: path that maximises the probability of sucess to all vertices from s\n",
    "function BellmanFord4(G, s)\n",
    "    nbv = size(G)[1]\n",
    "    # dans chaque ligne i  \n",
    "    # prob[i, 1] correspond au probabilité du succes entre s et le noeud i \n",
    "    # prob[i, 2] correspond au predecesseur par lequel on trouve le chemin qui maximise la probabilité du succes\n",
    "    prob = zeros(nbv, 2) \n",
    "    for i in 1:nbv\n",
    "        prob[i, 1] = -Inf\n",
    "        prob[i, 2] = -1\n",
    "    end\n",
    "    prob[s, 1] = 1\n",
    "    for k in 1:(nbv - 1)\n",
    "        # edge (i, j)\n",
    "        for i in 1:nbv\n",
    "            for j in 1:nbv\n",
    "                if (G[i, j] != 0) && (prob[j, 1] < (prob[i, 1] * G[i, j]))\n",
    "                    prob[j, 1] = prob[i, 1] * G[i,j]\n",
    "                    prob[j, 2] = i  \n",
    "                end\n",
    "            end\n",
    "        end\n",
    "    end\n",
    "    return prob\n",
    "end"
   ]
  },
  {
   "cell_type": "code",
   "execution_count": 37,
   "metadata": {},
   "outputs": [
    {
     "data": {
      "text/plain": [
       "13×2 Array{Float64,2}:\n",
       " 1.0       -1.0\n",
       " 0.98       1.0\n",
       " 0.97       1.0\n",
       " 0.99       1.0\n",
       " 0.9408     2.0\n",
       " 0.9409     3.0\n",
       " 0.9506     3.0\n",
       " 0.9207     4.0\n",
       " 0.931392   5.0\n",
       " 0.931588   7.0\n",
       " 0.912764   9.0\n",
       " 0.922272  10.0\n",
       " 0.903637  11.0"
      ]
     },
     "execution_count": 37,
     "metadata": {},
     "output_type": "execute_result"
    }
   ],
   "source": [
    "# exemple du sujet\n",
    "G = [0 0.98 0.97 0.99 0 0 0 0 0 0 0 0 0;\n",
    "     0 0 0 0 0.96 0.95 0 0 0 0 0 0 0;\n",
    "     0 0 0 0 0 0.97 0.98 0 0 0 0 0 0;\n",
    "     0 0 0 0 0 0 0.95 0.93 0 0 0 0 0;\n",
    "     0 0 0 0 0 0 0 0 0.99 0 0 0 0;\n",
    "     0 0 0 0 0 0 0 0 0.96 0 0 0 0;\n",
    "     0 0 0 0 0 0 0 0 0.97 0.98 0 0 0;\n",
    "     0 0 0 0 0 0 0 0 0 0.99 0 0 0;\n",
    "     0 0 0 0 0 0 0 0 0 0 0.98 0.99 0;\n",
    "     0 0 0 0 0 0 0 0 0 0 0.96 0.99 0;\n",
    "     0 0 0 0 0 0 0 0 0 0 0 0 0.99;\n",
    "     0 0 0 0 0 0 0 0 0 0 0 0 0.93;\n",
    "     0 0 0 0 0 0 0 0 0 0 0 0 0\n",
    "    ]\n",
    "prob = BellmanFord4(G, 1)"
   ]
  }
 ],
 "metadata": {
  "kernelspec": {
   "display_name": "Julia 1.5.2",
   "language": "julia",
   "name": "julia-1.5"
  },
  "language_info": {
   "file_extension": ".jl",
   "mimetype": "application/julia",
   "name": "julia",
   "version": "1.5.2"
  }
 },
 "nbformat": 4,
 "nbformat_minor": 4
}
