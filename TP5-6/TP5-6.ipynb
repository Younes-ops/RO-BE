{
 "metadata": {
  "language_info": {
   "codemirror_mode": {
    "name": "ipython",
    "version": 3
   },
   "file_extension": ".py",
   "mimetype": "text/x-python",
   "name": "python",
   "nbconvert_exporter": "python",
   "pygments_lexer": "ipython3",
   "version": 3
  },
  "orig_nbformat": 2,
  "kernelspec": {
   "name": "julia-1.5",
   "display_name": "Julia 1.5.2",
   "language": "julia"
  }
 },
 "nbformat": 4,
 "nbformat_minor": 2,
 "cells": [
  {
   "cell_type": "code",
   "execution_count": 6,
   "metadata": {},
   "outputs": [
    {
     "output_type": "execute_result",
     "data": {
      "text/plain": [
       "BellmanFord2 (generic function with 1 method)"
      ]
     },
     "metadata": {},
     "execution_count": 6
    }
   ],
   "source": [
    "# calcul du plus long chemin entre deux sommmets d'un graphe\n",
    "# Input: Graph G (adjacency matrix) \n",
    "#        Source vertex s\n",
    "function BellmanFord2(G, s)\n",
    "    nbv = size(G)[1]\n",
    "    # dans chaque ligne i  \n",
    "    # dis[i, 1] correspond au cout min entre s et le noeud i \n",
    "    # dis[i, 2] correspond au predecesseur par lequel on trouve le cout min\n",
    "    dis = zeros(nbv, 2) \n",
    "    for i in 1:nbv\n",
    "        dis[i, 1] = -Inf\n",
    "        dis[i, 2] = -1\n",
    "    end\n",
    "    dis[s, 1] = 0\n",
    "    for k in 1:(nbv - 1)\n",
    "        # edge (i, j)\n",
    "        for i in 1:nbv\n",
    "            for j in 1:nbv\n",
    "                if (G[i, j] != 0) && (dis[j, 1] < (dis[i, 1] + G[i, j]))\n",
    "                    dis[j, 1] = dis[i, 1] + G[i,j]\n",
    "                    dis[j, 2] = i\n",
    "                end\n",
    "            end\n",
    "        end\n",
    "    end\n",
    "    return dis\n",
    "end"
   ]
  },
  {
   "cell_type": "code",
   "execution_count": 8,
   "metadata": {},
   "outputs": [
    {
     "output_type": "execute_result",
     "data": {
      "text/plain": [
       "affres2 (generic function with 1 method)"
      ]
     },
     "metadata": {},
     "execution_count": 8
    }
   ],
   "source": [
    "function affres2(dis, s)\n",
    "   println(\"Result :\")\n",
    "   println(\"node     | biggest cost from $s      | previous node\")\n",
    "   println(\"\")\n",
    "   for i in 1:size(dis)[1]\n",
    "        println(\"$i           $(dis[i, 1])                          $(dis[i, 2])\")\n",
    "    end\n",
    "end"
   ]
  },
  {
   "cell_type": "code",
   "execution_count": 1,
   "metadata": {},
   "outputs": [
    {
     "output_type": "error",
     "ename": "LoadError",
     "evalue": "UndefVarError: BellmanFord2 not defined",
     "traceback": [
      "UndefVarError: BellmanFord2 not defined",
      "",
      "Stacktrace:",
      " [1] top-level scope at In[1]:9",
      " [2] include_string(::Function, ::Module, ::String, ::String) at .\\loading.jl:1091"
     ]
    }
   ],
   "source": [
    "# 1.2 Modélisation classique par graphe potentiel-tache\n",
    "# Graphe :\n",
    "G = [ 0 2 2 0 0 0;\n",
    "      0 0 0 3 0 0;\n",
    "      0 0 0 1 1 0;\n",
    "      0 0 0 0 0 4;\n",
    "      0 0 0 0 0 1;\n",
    "      0 0 0 0 0 0;\n",
    "];\n",
    "dis = BellmanFord2(G, 1);\n",
    "affres2(dis, 1)"
   ]
  },
  {
   "cell_type": "code",
   "execution_count": 20,
   "metadata": {},
   "outputs": [
    {
     "output_type": "execute_result",
     "data": {
      "text/plain": [
       "3×2 LinearAlgebra.Transpose{Int64,Array{Int64,2}}:\n",
       " 6  3\n",
       " 7  5\n",
       " 0  1"
      ]
     },
     "metadata": {},
     "execution_count": 20
    }
   ],
   "source": [
    "# 2.1 Relaxation des contraintes de ressources\n",
    "D = transpose([6 7 0; 3 5 1])"
   ]
  },
  {
   "cell_type": "code",
   "execution_count": 40,
   "metadata": {},
   "outputs": [
    {
     "output_type": "stream",
     "name": "stdout",
     "text": [
      "Min tfin1 + tfin2\nSubject to\n -t[1,1] + t[2,1] >= 6.0\n -t[2,1] + t[3,1] >= 7.0\n -t[1,2] + t[2,2] >= 3.0\n -t[2,2] + t[3,2] >= 5.0\n -t[3,1] + tfin1 >= 0.0\n -t[3,2] + tfin2 >= 1.0\n t[1,1] >= 0.0\n t[2,1] >= 0.0\n t[3,1] >= 0.0\n t[1,2] >= 0.0\n t[2,2] >= 0.0\n t[3,2] >= 0.0\n\nstart solve \nend solve\n\n\nSolution PL:\n \t t=[0.0 0.0; 6.0 3.0; 13.0 8.0]\t tfin=13.0\n"
     ]
    }
   ],
   "source": [
    "# solution lineaire \n",
    "using JuMP\n",
    "using Clp\n",
    "model = Model(Clp.Optimizer) # set optimizer\n",
    "set_optimizer_attribute(model, \"LogLevel\", 0) #don't display anything during solve\n",
    "set_optimizer_attribute(model, \"Algorithm\", 4) #LP solver chosen is simplex\n",
    "\n",
    "# define t variables\n",
    "@variable(model, t[i in 1:3, j in 1:2] >= 0)\n",
    "@variable(model, tfin1)\n",
    "@variable(model, tfin2)\n",
    "\n",
    "# define objective function\n",
    "@objective(model, Min, (tfin1+tfin2))\n",
    "\n",
    "# define constraints\n",
    "@constraint(model, t[2,1] - t[1,1] >= D[1,1] )\n",
    "@constraint(model, t[3,1] - t[2,1] >= D[2,1] )\n",
    "@constraint(model, t[2,2] - t[1,2] >= D[1,2] )\n",
    "@constraint(model, t[3,2] - t[2,2] >= D[2,2] )\n",
    "\n",
    "@constraint(model, tfin1 - t[3,1] >= D[3,1] )\n",
    "@constraint(model, tfin2 - t[3,2] >= D[3,2] )\n",
    "\n",
    "println(model)\n",
    "\n",
    "print(\"start solve \\n\")\n",
    "optimize!(model)\n",
    "print(\"end solve\\n\")\n",
    "\n",
    "println(\"\\n\\nSolution PL:\\n \\t t=\", value.(t), \"\\t tfin=\", max(value(tfin2), value(tfin1)))"
   ]
  },
  {
   "cell_type": "code",
   "execution_count": null,
   "metadata": {},
   "outputs": [],
   "source": [
    "#solution dynamique\n",
    "G2 = [\n",
    "\n",
    "]"
   ]
  }
 ]
}