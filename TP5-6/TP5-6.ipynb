{
 "cells": [
  {
   "cell_type": "code",
   "execution_count": 1,
   "metadata": {},
   "outputs": [
    {
     "output_type": "execute_result",
     "data": {
      "text/plain": [
       "BellmanFord2 (generic function with 1 method)"
      ]
     },
     "metadata": {},
     "execution_count": 1
    }
   ],
   "source": [
    "# calcul du plus long chemin entre deux sommmets d'un graphe\n",
    "# Input: Graph G (adjacency matrix) \n",
    "#        Source vertex s\n",
    "function BellmanFord2(G, s)\n",
    "    nbv = size(G)[1]\n",
    "    # dans chaque ligne i  \n",
    "    # dis[i, 1] correspond au cout min entre s et le noeud i \n",
    "    # dis[i, 2] correspond au predecesseur par lequel on trouve le cout min\n",
    "    dis = zeros(nbv, 2) \n",
    "    for i in 1:nbv\n",
    "        dis[i, 1] = -Inf\n",
    "        dis[i, 2] = -1\n",
    "    end\n",
    "    dis[s, 1] = 0\n",
    "    for k in 1:(nbv - 1)\n",
    "        # edge (i, j)\n",
    "        for i in 1:nbv\n",
    "            for j in 1:nbv\n",
    "                if (G[i, j] != -1) && (dis[j, 1] < (dis[i, 1] + G[i, j]))\n",
    "                    dis[j, 1] = dis[i, 1] + G[i,j]\n",
    "                    dis[j, 2] = i\n",
    "                end\n",
    "            end\n",
    "        end\n",
    "    end\n",
    "    return dis\n",
    "end"
   ]
  },
  {
   "cell_type": "code",
   "execution_count": 2,
   "metadata": {},
   "outputs": [
    {
     "output_type": "execute_result",
     "data": {
      "text/plain": [
       "affres2 (generic function with 1 method)"
      ]
     },
     "metadata": {},
     "execution_count": 2
    }
   ],
   "source": [
    "function affres2(dis, s)\n",
    "   println(\"Result :\")\n",
    "   println(\"node     | biggest cost from $s      | previous node\")\n",
    "   println(\"\")\n",
    "   for i in 1:size(dis)[1]\n",
    "        println(\"$i           $(dis[i, 1])                          $(dis[i, 2])\")\n",
    "    end\n",
    "end"
   ]
  },
  {
   "cell_type": "code",
   "execution_count": 3,
   "metadata": {},
   "outputs": [
    {
     "output_type": "stream",
     "name": "stdout",
     "text": [
      "Result :\nnode     | biggest cost from 1      | previous node\n\n1           0.0                          -1.0\n2           2.0                          1.0\n3           2.0                          1.0\n4           5.0                          2.0\n5           3.0                          3.0\n6           9.0                          4.0\n"
     ]
    }
   ],
   "source": [
    "# 1.2 Modélisation classique par graphe potentiel-tache\n",
    "# Graphe :\n",
    "G = [ -1  2  2 -1 -1 -1;\n",
    "      -1 -1 -1  3 -1 -1;\n",
    "      -1 -1 -1  1  1 -1;\n",
    "      -1 -1 -1 -1 -1  4;\n",
    "      -1 -1 -1 -1 -1  1;\n",
    "      -1 -1 -1 -1 -1 -1;\n",
    "];\n",
    "dis = BellmanFord2(G, 1);\n",
    "affres2(dis, 1)"
   ]
  },
  {
   "cell_type": "code",
   "execution_count": 4,
   "metadata": {},
   "outputs": [
    {
     "output_type": "execute_result",
     "data": {
      "text/plain": [
       "3×2 LinearAlgebra.Transpose{Int64,Array{Int64,2}}:\n",
       " 6  3\n",
       " 7  5\n",
       " 0  1"
      ]
     },
     "metadata": {},
     "execution_count": 4
    }
   ],
   "source": [
    "# 2.1 Relaxation des contraintes de ressources\n",
    "D = transpose([6 7 0; 3 5 1])\n"
   ]
  },
  {
   "cell_type": "code",
   "execution_count": 5,
   "metadata": {
    "scrolled": true
   },
   "outputs": [
    {
     "output_type": "stream",
     "name": "stdout",
     "text": [
      "Min tfin1 + tfin2\n",
      "Subject to\n",
      " -t[1,1] + t[2,1] >= 6.0\n",
      " -t[2,1] + t[3,1] >= 7.0\n",
      " -t[1,2] + t[2,2] >= 3.0\n",
      " -t[2,2] + t[3,2] >= 5.0\n",
      " -t[3,1] + tfin1 >= 0.0\n",
      " -t[3,2] + tfin2 >= 1.0\n",
      " t[1,1] >= 0.0\n",
      " t[2,1] >= 0.0\n",
      " t[3,1] >= 0.0\n",
      " t[1,2] >= 0.0\n",
      " t[2,2] >= 0.0\n",
      " t[3,2] >= 0.0\n",
      "\n",
      "start solve \n",
      "end solve\n",
      "\n",
      "\n",
      "Solution PL:\n",
      " \t t=[0.0 0.0; 6.0 3.0; 13.0 8.0]\t tfin=13.0\n"
     ]
    }
   ],
   "source": [
    "# solution lineaire \n",
    "using JuMP\n",
    "using Clp\n",
    "model = Model(Clp.Optimizer) # set optimizer\n",
    "set_optimizer_attribute(model, \"LogLevel\", 0) #don't display anything during solve\n",
    "set_optimizer_attribute(model, \"Algorithm\", 4) #LP solver chosen is simplex\n",
    "\n",
    "# define t variables\n",
    "@variable(model, t[i in 1:3, j in 1:2] >= 0)\n",
    "@variable(model, tfin1)\n",
    "@variable(model, tfin2)\n",
    "\n",
    "# define objective function\n",
    "@objective(model, Min, (tfin1+tfin2))\n",
    "\n",
    "# define constraints\n",
    "@constraint(model, t[2,1] - t[1,1] >= D[1,1] )\n",
    "@constraint(model, t[3,1] - t[2,1] >= D[2,1] )\n",
    "@constraint(model, t[2,2] - t[1,2] >= D[1,2] )\n",
    "@constraint(model, t[3,2] - t[2,2] >= D[2,2] )\n",
    "\n",
    "@constraint(model, tfin1 - t[3,1] >= D[3,1] )\n",
    "@constraint(model, tfin2 - t[3,2] >= D[3,2] )\n",
    "\n",
    "println(model)\n",
    "\n",
    "print(\"start solve \\n\")\n",
    "optimize!(model)\n",
    "print(\"end solve\\n\")\n",
    "\n",
    "println(\"\\n\\nSolution PL:\\n \\t t=\", value.(t), \"\\t tfin=\", max(value(tfin2), value(tfin1)))"
   ]
  },
  {
   "cell_type": "code",
   "execution_count": 7,
   "metadata": {},
   "outputs": [
    {
     "output_type": "stream",
     "name": "stdout",
     "text": [
      "Result :\nnode     | biggest cost from 1      | previous node\n\n1           0.0                          -1.0\n2           0.0                          1.0\n3           6.0                          2.0\n4           13.0                          3.0\n5           0.0                          1.0\n6           3.0                          5.0\n7           8.0                          6.0\n8           13.0                          4.0\n\n\nSolution Graphe potentiel-tâche:\t   13.0\n"
     ]
    }
   ],
   "source": [
    "# Graphe potentiel-tâche\n",
    "\n",
    "# Explication des indices de G:\n",
    "# ligne 1 :: Etat initial\n",
    "# (ligne 2, ligne 3, ligne 4) :: (t1op1, t1op2, t1op3)\n",
    "# (ligne 5, ligne 6, ligne 7) :: (t2op1, t2op2, t2op3)\n",
    "# ligne8 :: Etat final\n",
    "\n",
    "G2 = [ -1 0 -1 -1  0 -1 -1 -1;\n",
    "      -1 -1  6 -1 -1 -1 -1 -1;\n",
    "      -1 -1 -1  7 -1 -1 -1 -1;\n",
    "      -1 -1 -1 -1 -1 -1 -1  0;\n",
    "      -1 -1 -1 -1 -1  3 -1 -1;\n",
    "      -1 -1 -1 -1 -1 -1  5 -1;\n",
    "      -1 -1 -1 -1 -1 -1 -1  1;\n",
    "      -1 -1 -1 -1 -1 -1 -1 -1;\n",
    "];\n",
    "dis = BellmanFord2(G2, 1);\n",
    "affres2(dis, 1)\n",
    "\n",
    "println(\"\\n\\nSolution Graphe potentiel-tâche:\\t   $(dis[8, 1])\")"
   ]
  },
  {
   "cell_type": "code",
   "execution_count": 9,
   "metadata": {},
   "outputs": [
    {
     "output_type": "stream",
     "name": "stdout",
     "text": [
      "Result :\nnode     | biggest cost from 1      | previous node\n\n1           0.0                          -1.0\n2           0.0                          1.0\n3           6.0                          2.0\n4           13.0                          3.0\n5           6.0                          2.0\n6           9.0                          5.0\n7           14.0                          6.0\n8           15.0                          7.0\n\n\nSolution Graphe potentiel-tâche:\t   15.0\n"
     ]
    }
   ],
   "source": [
    "#2.3.2 PSE basée sur le graphe disjonctif\n",
    "G31 = [ -1 0 -1 -1  0 -1 -1 -1;\n",
    "       -1 -1  6 -1 6 -1 -1 -1;\n",
    "       -1 -1 -1  7 -1 -1 7 -1;\n",
    "       -1 -1 -1 -1 -1 -1 -1  0;\n",
    "       -1 -1 -1 -1 -1  3 -1 -1;\n",
    "       -1 -1 -1 -1 -1 -1  5 -1;\n",
    "       -1 -1 -1 -1 -1 -1 -1  1;\n",
    "       -1 -1 -1 -1 -1 -1 -1 -1;\n",
    "];\n",
    "dis = BellmanFord2(G31, 1);\n",
    "affres2(dis, 1)\n",
    "println(\"\\n\\nSolution Graphe potentiel-tâche:\\t   $(dis[8, 1])\")"
   ]
  },
  {
   "cell_type": "code",
   "execution_count": 16,
   "metadata": {},
   "outputs": [
    {
     "output_type": "stream",
     "name": "stdout",
     "text": [
      "Result :\nnode     | biggest cost from 1      | previous node\n\n1           0.0                          -1.0\n2           3.0                          5.0\n3           9.0                          7.0\n4           16.0                          3.0\n5           0.0                          1.0\n6           3.0                          5.0\n7           8.0                          6.0\n8           16.0                          4.0\n\n\nSolution Graphe potentiel-tâche:\t   16.0\n"
     ]
    }
   ],
   "source": [
    "G32 = [ -1 0 -1 -1  0 -1 -1 -1;\n",
    "       -1 -1  6 -1 -1 -1 -1 -1;\n",
    "       -1 -1 -1  7 -1 -1 -1 -1;\n",
    "       -1 -1 -1 -1 -1 -1 -1  0;\n",
    "       -1 3 -1 -1 -1  3 -1 -1;\n",
    "       -1 -1 -1 -1 -1 -1  5 -1;\n",
    "       -1 -1 1 -1 -1 -1 -1  1;\n",
    "       -1 -1 -1 -1 -1 -1 -1 -1;\n",
    "];\n",
    "dis = BellmanFord2(G32, 1);\n",
    "affres2(dis, 1)\n",
    "println(\"\\n\\nSolution Graphe potentiel-tâche:\\t   $(dis[8, 1])\")"
   ]
  },
  {
   "cell_type": "code",
   "execution_count": 17,
   "metadata": {},
   "outputs": [
    {
     "output_type": "stream",
     "name": "stdout",
     "text": [
      "Result :\nnode     | biggest cost from 1      | previous node\n\n1           0.0                          -1.0\n2           0.0                          1.0\n3           15.0                          7.0\n4           22.0                          3.0\n5           6.0                          2.0\n6           9.0                          5.0\n7           14.0                          6.0\n8           22.0                          4.0\n\n\nSolution Graphe potentiel-tâche:\t   22.0\n"
     ]
    }
   ],
   "source": [
    "G33 = [ -1 0 -1 -1  0 -1 -1 -1;\n",
    "       -1 -1  6 -1 6 -1 -1 -1;\n",
    "       -1 -1 -1  7 -1 -1 -1 -1;\n",
    "       -1 -1 -1 -1 -1 -1 -1  0;\n",
    "       -1 -1 -1 -1 -1  3 -1 -1;\n",
    "       -1 -1 -1 -1 -1 -1  5 -1;\n",
    "       -1 -1 1 -1 -1 -1 -1  1;\n",
    "       -1 -1 -1 -1 -1 -1 -1 -1;\n",
    "];\n",
    "dis = BellmanFord2(G33, 1);\n",
    "affres2(dis, 1)\n",
    "println(\"\\n\\nSolution Graphe potentiel-tâche:\\t   $(dis[8, 1])\")"
   ]
  },
  {
   "cell_type": "code",
   "execution_count": 19,
   "metadata": {},
   "outputs": [
    {
     "output_type": "stream",
     "name": "stdout",
     "text": [
      "Result :\nnode     | biggest cost from 1      | previous node\n\n1           0.0                          -1.0\n2           3.0                          5.0\n3           9.0                          2.0\n4           17.0                          7.0\n5           0.0                          1.0\n6           3.0                          5.0\n7           16.0                          3.0\n8           17.0                          7.0\n\n\nSolution Graphe potentiel-tâche:\t   17.0\n"
     ]
    }
   ],
   "source": [
    "G34 = [ -1 0 -1 -1  0 -1 -1 -1;\n",
    "       -1 -1  6 -1 -1 -1 -1 -1;\n",
    "       -1 -1 -1  7 -1 -1 7 -1;\n",
    "       -1 -1 -1 -1 -1 -1 -1  0;\n",
    "       -1 3 -1 -1 -1  3 -1 -1;\n",
    "       -1 -1 -1 -1 -1 -1  5 -1;\n",
    "       -1 -1 -1 1 -1 -1 -1  1;\n",
    "       -1 -1 -1 -1 -1 -1 -1 -1;\n",
    "];\n",
    "dis = BellmanFord2(G34, 1);\n",
    "affres2(dis, 1)\n",
    "println(\"\\n\\nSolution Graphe potentiel-tâche:\\t   $(dis[8, 1])\")"
   ]
  }
 ],
 "metadata": {
  "kernelspec": {
   "name": "julia-1.5",
   "display_name": "Julia 1.5.2",
   "language": "julia"
  },
  "language_info": {
   "file_extension": ".jl",
   "mimetype": "application/julia",
   "name": "julia",
   "version": "3.8.6-final"
  }
 },
 "nbformat": 4,
 "nbformat_minor": 2
}