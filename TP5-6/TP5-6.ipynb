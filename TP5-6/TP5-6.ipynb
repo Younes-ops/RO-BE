{
 "cells": [
  {
   "cell_type": "markdown",
   "metadata": {},
   "source": [
    "# TP 5-6"
   ]
  },
  {
   "cell_type": "code",
   "execution_count": 15,
   "metadata": {},
   "outputs": [
    {
     "data": {
      "text/plain": [
       "BellmanFord2 (generic function with 1 method)"
      ]
     },
     "execution_count": 15,
     "metadata": {},
     "output_type": "execute_result"
    }
   ],
   "source": [
    "# calcul du plus long chemin entre deux sommmets d'un graphe\n",
    "# Input: Graph G (adjacency matrix) \n",
    "#        Source vertex s\n",
    "function BellmanFord2(G, s)\n",
    "    nbv = size(G)[1]\n",
    "    # dans chaque ligne i  \n",
    "    # dis[i, 1] correspond au cout min entre s et le noeud i \n",
    "    # dis[i, 2] correspond au predecesseur par lequel on trouve le cout min\n",
    "    dis = zeros(nbv, 2) \n",
    "    for i in 1:nbv\n",
    "        dis[i, 1] = -Inf\n",
    "        dis[i, 2] = -1\n",
    "    end\n",
    "    dis[s, 1] = 0\n",
    "    for k in 1:(nbv - 1)\n",
    "        # edge (i, j)\n",
    "        for i in 1:nbv\n",
    "            for j in 1:nbv\n",
    "                if (G[i, j] != -1) && (dis[j, 1] < (dis[i, 1] + G[i, j]))\n",
    "                    dis[j, 1] = dis[i, 1] + G[i,j]\n",
    "                    dis[j, 2] = i\n",
    "                end\n",
    "            end\n",
    "        end\n",
    "    end\n",
    "    return dis\n",
    "end"
   ]
  },
  {
   "cell_type": "code",
   "execution_count": 16,
   "metadata": {},
   "outputs": [
    {
     "data": {
      "text/plain": [
       "affres2 (generic function with 1 method)"
      ]
     },
     "execution_count": 16,
     "metadata": {},
     "output_type": "execute_result"
    }
   ],
   "source": [
    "function affres2(dis, s)\n",
    "   println(\"Result :\")\n",
    "   println(\"node     | biggest cost from $s      | previous node\")\n",
    "   println(\"\")\n",
    "   for i in 1:size(dis)[1]\n",
    "        println(\"$i           $(dis[i, 1])                          $(dis[i, 2])\")\n",
    "    end\n",
    "end"
   ]
  },
  {
   "cell_type": "markdown",
   "metadata": {},
   "source": [
    "### 1.2 Modélisation classique par graphe potentiel-tache"
   ]
  },
  {
   "cell_type": "code",
   "execution_count": 17,
   "metadata": {},
   "outputs": [
    {
     "name": "stdout",
     "output_type": "stream",
     "text": [
      "Result :\n",
      "node     | biggest cost from 1      | previous node\n",
      "\n",
      "1           0.0                          -1.0\n",
      "2           2.0                          1.0\n",
      "3           2.0                          1.0\n",
      "4           5.0                          2.0\n",
      "5           3.0                          3.0\n",
      "6           9.0                          4.0\n",
      "\n",
      "\n",
      "Solution :\t   9.0\n"
     ]
    }
   ],
   "source": [
    "# 1.2 Modélisation classique par graphe potentiel-tache\n",
    "# Graphe :\n",
    "G = [ -1  2  2 -1 -1 -1;\n",
    "      -1 -1 -1  3 -1 -1;\n",
    "      -1 -1 -1  1  1 -1;\n",
    "      -1 -1 -1 -1 -1  4;\n",
    "      -1 -1 -1 -1 -1  1;\n",
    "      -1 -1 -1 -1 -1 -1;\n",
    "];\n",
    "dis = BellmanFord2(G, 1);\n",
    "affres2(dis, 1)\n",
    "println(\"\\n\\nSolution :\\t   $(dis[6, 1])\")"
   ]
  },
  {
   "cell_type": "markdown",
   "metadata": {},
   "source": [
    "### 2.1 Relaxation des contraintes de ressources"
   ]
  },
  {
   "cell_type": "code",
   "execution_count": 18,
   "metadata": {},
   "outputs": [
    {
     "data": {
      "text/plain": [
       "3×2 LinearAlgebra.Transpose{Int64,Array{Int64,2}}:\n",
       " 6  3\n",
       " 7  5\n",
       " 0  1"
      ]
     },
     "execution_count": 18,
     "metadata": {},
     "output_type": "execute_result"
    }
   ],
   "source": [
    "D = transpose([6 7 0; 3 5 1])"
   ]
  },
  {
   "cell_type": "code",
   "execution_count": 19,
   "metadata": {
    "scrolled": false
   },
   "outputs": [
    {
     "name": "stdout",
     "output_type": "stream",
     "text": [
      "Min tfin1 + tfin2\n",
      "Subject to\n",
      " -t[1,1] + t[2,1] >= 6.0\n",
      " -t[2,1] + t[3,1] >= 7.0\n",
      " -t[1,2] + t[2,2] >= 3.0\n",
      " -t[2,2] + t[3,2] >= 5.0\n",
      " -t[3,1] + tfin1 >= 0.0\n",
      " -t[3,2] + tfin2 >= 1.0\n",
      " t[1,1] >= 0.0\n",
      " t[2,1] >= 0.0\n",
      " t[3,1] >= 0.0\n",
      " t[1,2] >= 0.0\n",
      " t[2,2] >= 0.0\n",
      " t[3,2] >= 0.0\n",
      "\n",
      "start solve \n",
      "end solve\n",
      "\n",
      "\n",
      "Solution PL:\n",
      " \t t=[0.0 0.0; 6.0 3.0; 13.0 8.0]\t tfin=13.0\n"
     ]
    }
   ],
   "source": [
    "# solution lineaire \n",
    "using JuMP\n",
    "using Clp\n",
    "model = Model(Clp.Optimizer) # set optimizer\n",
    "set_optimizer_attribute(model, \"LogLevel\", 0) #don't display anything during solve\n",
    "set_optimizer_attribute(model, \"Algorithm\", 4) #LP solver chosen is simplex\n",
    "\n",
    "# define t variables\n",
    "@variable(model, t[i in 1:3, j in 1:2] >= 0)\n",
    "@variable(model, tfin1)\n",
    "@variable(model, tfin2)\n",
    "\n",
    "# define objective function\n",
    "@objective(model, Min, (tfin1+tfin2))\n",
    "\n",
    "# define constraints\n",
    "@constraint(model, t[2,1] - t[1,1] >= D[1,1] )\n",
    "@constraint(model, t[3,1] - t[2,1] >= D[2,1] )\n",
    "@constraint(model, t[2,2] - t[1,2] >= D[1,2] )\n",
    "@constraint(model, t[3,2] - t[2,2] >= D[2,2] )\n",
    "\n",
    "@constraint(model, tfin1 - t[3,1] >= D[3,1] )\n",
    "@constraint(model, tfin2 - t[3,2] >= D[3,2] )\n",
    "\n",
    "println(model)\n",
    "\n",
    "print(\"start solve \\n\")\n",
    "optimize!(model)\n",
    "print(\"end solve\\n\")\n",
    "\n",
    "println(\"\\n\\nSolution PL:\\n \\t t=\", value.(t), \"\\t tfin=\", max(value(tfin2), value(tfin1)))"
   ]
  },
  {
   "cell_type": "code",
   "execution_count": 20,
   "metadata": {},
   "outputs": [
    {
     "name": "stdout",
     "output_type": "stream",
     "text": [
      "Result :\n",
      "node     | biggest cost from 1      | previous node\n",
      "\n",
      "1           0.0                          -1.0\n",
      "2           0.0                          1.0\n",
      "3           6.0                          2.0\n",
      "4           13.0                          3.0\n",
      "5           0.0                          1.0\n",
      "6           3.0                          5.0\n",
      "7           8.0                          6.0\n",
      "8           13.0                          4.0\n",
      "\n",
      "\n",
      "Solution Graphe potentiel-tâche:\t   13.0\n"
     ]
    }
   ],
   "source": [
    "# Graphe potentiel-tâche\n",
    "# Explication des indices de G:\n",
    "# ligne 1 :: Etat initial\n",
    "# (ligne 2, ligne 3, ligne 4) :: (t1op1, t1op2, t1op3)\n",
    "# (ligne 5, ligne 6, ligne 7) :: (t2op1, t2op2, t2op3)\n",
    "# ligne8 :: Etat final\n",
    "\n",
    "G2 = [ -1 0 -1 -1  0 -1 -1 -1;\n",
    "      -1 -1  6 -1 -1 -1 -1 -1;\n",
    "      -1 -1 -1  7 -1 -1 -1 -1;\n",
    "      -1 -1 -1 -1 -1 -1 -1  0;\n",
    "      -1 -1 -1 -1 -1  3 -1 -1;\n",
    "      -1 -1 -1 -1 -1 -1  5 -1;\n",
    "      -1 -1 -1 -1 -1 -1 -1  1;\n",
    "      -1 -1 -1 -1 -1 -1 -1 -1;\n",
    "];\n",
    "dis = BellmanFord2(G2, 1);\n",
    "affres2(dis, 1)\n",
    "\n",
    "println(\"\\n\\nSolution Graphe potentiel-tâche:\\t   $(dis[8, 1])\")"
   ]
  },
  {
   "cell_type": "markdown",
   "metadata": {},
   "source": [
    "### 2.3.1 PSE basée sur la relaxation linéaire du modèle avec bigM (Tableau 3)"
   ]
  },
  {
   "cell_type": "code",
   "execution_count": 21,
   "metadata": {},
   "outputs": [
    {
     "name": "stdout",
     "output_type": "stream",
     "text": [
      "Min tfin\n",
      "Subject to\n",
      " -t[1,1] + t[1,2] >= 6.0\n",
      " -t[1,2] + t[1,3] >= 7.0\n",
      " -t[2,1] + t[2,2] >= 3.0\n",
      " -t[2,2] + t[2,3] >= 5.0\n",
      " -t[1,3] + tfin >= 4.0\n",
      " -t[2,3] + tfin >= 1.0\n",
      " -t[1,1] + t[2,1] + 26 x_2_1__1_1 >= 6.0\n",
      " t[1,1] - t[2,1] - 26 x_2_1__1_1 >= -23.0\n",
      " -t[1,2] + t[2,3] + 26 x_2_3__1_2 >= 7.0\n",
      " t[1,2] - t[2,3] - 26 x_2_3__1_2 >= -25.0\n",
      " t[2,2] - t[1,3] + 26 x_2_2__1_3 >= 4.0\n",
      " -t[2,2] + t[1,3] - 26 x_2_2__1_3 >= -21.0\n",
      " t[1,1] >= 0.0\n",
      " t[2,1] >= 0.0\n",
      " t[1,2] >= 0.0\n",
      " t[2,2] >= 0.0\n",
      " t[1,3] >= 0.0\n",
      " t[2,3] >= 0.0\n",
      " x_2_1__1_1 >= 0.0\n",
      " x_2_3__1_2 >= 0.0\n",
      " x_2_2__1_3 >= 0.0\n",
      " x_2_1__1_1 <= 1.0\n",
      " x_2_3__1_2 <= 1.0\n",
      " x_2_2__1_3 <= 1.0\n",
      "\n"
     ]
    }
   ],
   "source": [
    "MachinesParJob=[1 3 2; 1 2 3]\n",
    "Duree=[6 7 4; 3 5 1]\n",
    "bigM=sum(Duree)\n",
    "\n",
    "# ROOT NODE\n",
    "using JuMP\n",
    "using Clp\n",
    "\n",
    "model3 = Model(Clp.Optimizer) # set optimizer\n",
    "set_optimizer_attribute(model3, \"LogLevel\", 0) #don't display anything during solve\n",
    "set_optimizer_attribute(model3, \"Algorithm\", 4) #LP solver chosen is simplex\n",
    "\n",
    "# define t variables\n",
    "@variable(model3, t[i in 1:2, j in 1:3] >= 0)\n",
    "@variable(model3, tfin)\n",
    "\n",
    "# define objective function\n",
    "@objective(model3, Min, tfin)\n",
    "\n",
    "# define constraints: t_i(j+1) - t_ij  >= Duree[i,j], \\forall i,j\n",
    "@constraint(model3, t[1,2] - t[1,1] >= Duree[1,1] )\n",
    "@constraint(model3, t[1,3] - t[1,2] >= Duree[1,2] )\n",
    "@constraint(model3, t[2,2] - t[2,1] >= Duree[2,1] )\n",
    "@constraint(model3, t[2,3] - t[2,2] >= Duree[2,2] )\n",
    "\n",
    "#define constraints: tfin - t_ij >= Duree[i,j], \\forall ij\n",
    "@constraint(model3, tfin - t[1,3] >= Duree[1,3] )\n",
    "@constraint(model3, tfin - t[2,3] >= Duree[2,3] )\n",
    "\n",
    "\n",
    "# define x variables as CONTINUOUS (recall that it is not possible to define binary variables in Clp)\n",
    "@variable(model3, 0 <= x_2_1__1_1 <= 1)\n",
    "@variable(model3, 0 <= x_2_3__1_2 <= 1)\n",
    "@variable(model3, 0 <= x_2_2__1_3 <= 1)\n",
    "varsshouldbebinary=[x_2_1__1_1, x_2_3__1_2, x_2_2__1_3]\n",
    "\n",
    "\n",
    "# define bigM constraints linking x and t variables\n",
    "@constraint(model3, t[2,1] - t[1,1] >=  Duree[1,1] - bigM * x_2_1__1_1)\n",
    "@constraint(model3, t[1,1] - t[2,1] >=  Duree[2,1] - bigM * (1-x_2_1__1_1))\n",
    "@constraint(model3, t[2,3] - t[1,2] >=  Duree[1,2] - bigM * x_2_3__1_2)\n",
    "@constraint(model3, t[1,2] - t[2,3] >=  Duree[2,3] - bigM * (1-x_2_3__1_2))\n",
    "\n",
    "@constraint(model3, t[2,2] - t[1,3] >=  Duree[1,3] - bigM * x_2_2__1_3)\n",
    "@constraint(model3, t[1,3] - t[2,2] >=  Duree[2,2] - bigM * (1 - x_2_2__1_3))\n",
    "\n",
    "\n",
    "println(model3)"
   ]
  },
  {
   "cell_type": "code",
   "execution_count": 22,
   "metadata": {},
   "outputs": [
    {
     "data": {
      "text/plain": [
       "ExplorerAutreNoeud_relaxlin (generic function with 1 method)"
      ]
     },
     "execution_count": 22,
     "metadata": {},
     "output_type": "execute_result"
    }
   ],
   "source": [
    "function TestsSondabilite_relaxlin(model2, varsbin, BestTfin, Bestsol)\n",
    "    TA, TO, TR = false, false, false\n",
    "    if(termination_status(model2) == MOI.INFEASIBLE)#Test de faisabilite\n",
    "        TA=true\n",
    "        println(\"TA\")\n",
    "    elseif(objective_value(model2) >= BestTfin) #Test d'optimalite\n",
    "        TO=true\n",
    "        println(\"TO\")\n",
    "    elseif( prod(abs.([round.(v, digits=0) for v in value.(varsbin)]-value.(varsbin)) .<= fill(10^-5, size(varsbin))) \n",
    "        ) #Test de resolution\n",
    "        TR=true\n",
    "        println(\"TR\")\n",
    "        if (value(tfin) <= BestTfin)\n",
    "            Bestsol = value.(t)\n",
    "            BestTfin=value(tfin)\n",
    "        end\n",
    "    else\n",
    "        println(\"non sondable\")\n",
    "    end\n",
    "    TA, TO, TR, Bestsol, BestTfin\n",
    "end\n",
    "\n",
    "function SeparerNoeud_relaxlin(varsshouldbebinary, listvars, listvals)\n",
    "    # le noeud est non-sondable. Appliquer le critère de séparation pour le séparer en sous-noeuds \n",
    "    # et choisir un noeud-fils le plus à gauche   \n",
    "    \n",
    "    #find a fractionnal variable\n",
    "    i, var = 1, 0\n",
    "    while((i <= length(varsshouldbebinary)) && (var==0))\n",
    "        #if(varsshouldbebinary[i] ∉ listvars)\n",
    "        if(abs(round(value(varsshouldbebinary[i]), digits=0) - value(varsshouldbebinary[i]) ) >= 10^-5)\n",
    "            var=varsshouldbebinary[i]\n",
    "        end\n",
    "        i+=1\n",
    "    end\n",
    "    \n",
    "    #=\n",
    "    #find most fractionnal variable\n",
    "    i, var, maxfrac = -1, 0, 0.0\n",
    "    for i in 1:length(varsshouldbebinary)\n",
    "        if(abs(round(value(varsshouldbebinary[i]), digits=0) - value(varsshouldbebinary[i]) ) >= maxfrac) \n",
    "            #if a variable is more fractinonal\n",
    "            var=varsshouldbebinary[i]\n",
    "            maxfrac=abs(round(value(varsshouldbebinary[i]), digits=0) - value(varsshouldbebinary[i]) )\n",
    "            #println(i, \" \", var, \" \", maxfrac)\n",
    "        end\n",
    "    end\n",
    "    =#\n",
    "    \n",
    "\n",
    "    set_lower_bound(var,1.0)\n",
    "    set_upper_bound(var,1.0)\n",
    "\n",
    "    push!(listvars,var) #stocker l'identite de la variable choisie pour la séparation\n",
    "    push!(listvals,1.0) #stocker la branche choisie, identifiee par la valeur de la variable choisie\n",
    "    listvars, listvals\n",
    "end\n",
    "\n",
    "\n",
    "function ExplorerAutreNoeud_relaxlin(listvars, listvals)\n",
    "    #this node is sondable, go back to parent node then right child if possible\n",
    "    \n",
    "    stop=false\n",
    "    #go back to parent node\n",
    "    var=pop!(listvars)\n",
    "    theval=pop!(listvals)\n",
    "    set_lower_bound(var,0.0)\n",
    "    set_upper_bound(var,1.0)\n",
    "\n",
    "    #go to right child if possible, otherwise go back to parent\n",
    "    while( (theval==0.0) && (length(listvars)>= 1))\n",
    "        var=pop!(listvars)\n",
    "        theval=pop!(listvals)\n",
    "        set_lower_bound(var,0.0) \n",
    "        set_upper_bound(var,1.0)\n",
    "    end\n",
    "    if theval==1.0\n",
    "        set_lower_bound(var,0.0)\n",
    "        set_upper_bound(var,0.0)\n",
    "        push!(listvars,var)\n",
    "        push!(listvals,0.0)\n",
    "    else\n",
    "        println(\"\\nFINISHED\")\n",
    "        stop=true\n",
    "    end\n",
    "    listvars, listvals, stop \n",
    "end"
   ]
  },
  {
   "cell_type": "code",
   "execution_count": 23,
   "metadata": {
    "scrolled": false
   },
   "outputs": [
    {
     "name": "stdout",
     "output_type": "stream",
     "text": [
      "non sondable\n",
      "non sondable\n",
      "non sondable\n",
      "TR\n",
      "TA\n",
      "TO\n",
      "non sondable\n",
      "TR\n",
      "TO\n",
      "\n",
      "FINISHED\n"
     ]
    }
   ],
   "source": [
    "listvars=[]\n",
    "listvals=[]\n",
    "\n",
    "BestTfin=bigM\n",
    "Bestsol=[]\n",
    "\n",
    "current_node_number=0\n",
    "stop = false\n",
    "\n",
    "while(!stop)\n",
    "    status = optimize!(model3)\n",
    "    TA, TO, TR, Bestsol, BestTfin = TestsSondabilite_relaxlin(model3, varsshouldbebinary, BestTfin, Bestsol)\n",
    "    is_node_sondable = TA || TO || TR\n",
    "    if(!is_node_sondable)\n",
    "        listvars, listvals = SeparerNoeud_relaxlin(varsshouldbebinary, listvars, listvals)\n",
    "    else\n",
    "        listvars, listvals, stop = ExplorerAutreNoeud_relaxlin(listvars, listvals)\n",
    "    end\n",
    "    current_node_number = current_node_number + 1\n",
    "end\n"
   ]
  },
  {
   "cell_type": "code",
   "execution_count": 24,
   "metadata": {},
   "outputs": [
    {
     "name": "stdout",
     "output_type": "stream",
     "text": [
      "\n",
      "******\n",
      "\n",
      "Optimal value = 18.0\n",
      "\n",
      "Optimal t=[0.0 6.0 14.0; 6.0 9.0 13.999999999999998]\n"
     ]
    }
   ],
   "source": [
    "println(\"\\n******\\n\\nOptimal value = \", BestTfin, \"\\n\\nOptimal t=\", Bestsol)"
   ]
  },
  {
   "cell_type": "markdown",
   "metadata": {},
   "source": [
    "### 2.3.2 PSE basée sur le graphe disjonctif"
   ]
  },
  {
   "cell_type": "code",
   "execution_count": 25,
   "metadata": {},
   "outputs": [
    {
     "name": "stdout",
     "output_type": "stream",
     "text": [
      "\n",
      "\n",
      "Solution Graphe potentiel-tâche:\t   15.0\n",
      "\n",
      "\n",
      "Solution Graphe potentiel-tâche:\t   16.0\n",
      "\n",
      "\n",
      "Solution Graphe potentiel-tâche:\t   22.0\n",
      "\n",
      "\n",
      "Solution Graphe potentiel-tâche:\t   17.0\n"
     ]
    }
   ],
   "source": [
    "#on teste les 4 cas possbiles\n",
    "\n",
    "G31 = [ -1 0 -1 -1  0 -1 -1 -1;\n",
    "       -1 -1  6 -1 6 -1 -1 -1;\n",
    "       -1 -1 -1  7 -1 -1 7 -1;\n",
    "       -1 -1 -1 -1 -1 -1 -1  0;\n",
    "       -1 -1 -1 -1 -1  3 -1 -1;\n",
    "       -1 -1 -1 -1 -1 -1  5 -1;\n",
    "       -1 -1 -1 -1 -1 -1 -1  1;\n",
    "       -1 -1 -1 -1 -1 -1 -1 -1;\n",
    "];\n",
    "dis = BellmanFord2(G31, 1);\n",
    "println(\"\\n\\nSolution Graphe potentiel-tâche:\\t   $(dis[8, 1])\")\n",
    "\n",
    "G32 = [ -1 0 -1 -1  0 -1 -1 -1;\n",
    "       -1 -1  6 -1 -1 -1 -1 -1;\n",
    "       -1 -1 -1  7 -1 -1 -1 -1;\n",
    "       -1 -1 -1 -1 -1 -1 -1  0;\n",
    "       -1 3 -1 -1 -1  3 -1 -1;\n",
    "       -1 -1 -1 -1 -1 -1  5 -1;\n",
    "       -1 -1 1 -1 -1 -1 -1  1;\n",
    "       -1 -1 -1 -1 -1 -1 -1 -1;\n",
    "];\n",
    "dis = BellmanFord2(G32, 1);\n",
    "println(\"\\n\\nSolution Graphe potentiel-tâche:\\t   $(dis[8, 1])\")\n",
    "\n",
    "G33 = [ -1 0 -1 -1  0 -1 -1 -1;\n",
    "       -1 -1  6 -1 6 -1 -1 -1;\n",
    "       -1 -1 -1  7 -1 -1 -1 -1;\n",
    "       -1 -1 -1 -1 -1 -1 -1  0;\n",
    "       -1 -1 -1 -1 -1  3 -1 -1;\n",
    "       -1 -1 -1 -1 -1 -1  5 -1;\n",
    "       -1 -1 1 -1 -1 -1 -1  1;\n",
    "       -1 -1 -1 -1 -1 -1 -1 -1;\n",
    "];\n",
    "dis = BellmanFord2(G33, 1);\n",
    "println(\"\\n\\nSolution Graphe potentiel-tâche:\\t   $(dis[8, 1])\")\n",
    "\n",
    "G34 = [ -1 0 -1 -1  0 -1 -1 -1;\n",
    "       -1 -1  6 -1 -1 -1 -1 -1;\n",
    "       -1 -1 -1  7 -1 -1 7 -1;\n",
    "       -1 -1 -1 -1 -1 -1 -1  0;\n",
    "       -1 3 -1 -1 -1  3 -1 -1;\n",
    "       -1 -1 -1 -1 -1 -1  5 -1;\n",
    "       -1 -1 -1 1 -1 -1 -1  1;\n",
    "       -1 -1 -1 -1 -1 -1 -1 -1;\n",
    "];\n",
    "dis = BellmanFord2(G34, 1);\n",
    "println(\"\\n\\nSolution Graphe potentiel-tâche:\\t   $(dis[8, 1])\")"
   ]
  },
  {
   "cell_type": "code",
   "execution_count": 34,
   "metadata": {},
   "outputs": [
    {
     "data": {
      "text/plain": [
       "BellmanFord_disjonctif (generic function with 1 method)"
      ]
     },
     "execution_count": 34,
     "metadata": {},
     "output_type": "execute_result"
    }
   ],
   "source": [
    "# Input: Graph G (adjacency matrix) \n",
    "#        Graph Gd avec seulement les acrs disjonctive\n",
    "#        Source vertex s\n",
    "\n",
    "function BellmanFord_disjonctif(G, Gd, s)\n",
    "    nbv = size(G)[1]\n",
    "    # dans chaque ligne i  \n",
    "    # dis[i, 1] correspond au cout min entre s et le noeud i \n",
    "    # dis[i, 2] correspond au predecesseur par lequel on trouve le cout min\n",
    "    dis = zeros(nbv, 2) \n",
    "    for i in 1:nbv\n",
    "        dis[i, 1] = -Inf\n",
    "        dis[i, 2] = -1\n",
    "    end\n",
    "    dis[s, 1] = 0\n",
    "    for k in 1:(nbv - 1)\n",
    "        # edge (i, j)\n",
    "        for i in 1:nbv\n",
    "            for j in 1:nbv\n",
    "                if (G[i, j] != -1) && (dis[j, 1] < (dis[i, 1] + G[i, j]))\n",
    "                    dis[j, 1] = dis[i, 1] + G[i,j] \n",
    "                    dis[j, 2] = i\n",
    "                elseif (G[i, j] == -1) && (Gd[i, j] != 0) && ((dis[j, 1] < (dis[i, 1] + Gd[i, j])) && (dis[i, 1] < (dis[j, 1] + Gd[j, i])))\n",
    "                    dis[j, 1] = dis[i, 1] + Gd[i, j]\n",
    "                    dis[j, 2] = i\n",
    "                    Gd[i, j] = 0\n",
    "                    Gd[j, i] = 0\n",
    "                end\n",
    "            end\n",
    "        end\n",
    "    end\n",
    "    return dis    \n",
    "end"
   ]
  },
  {
   "cell_type": "code",
   "execution_count": 35,
   "metadata": {},
   "outputs": [
    {
     "name": "stdout",
     "output_type": "stream",
     "text": [
      "Result :\n",
      "node     | biggest cost from 1      | previous node\n",
      "\n",
      "1           0.0                          -1.0\n",
      "2           0.0                          1.0\n",
      "3           6.0                          2.0\n",
      "4           13.0                          3.0\n",
      "5           6.0                          2.0\n",
      "6           9.0                          5.0\n",
      "7           14.0                          6.0\n",
      "8           15.0                          7.0\n",
      "\n",
      "\n",
      "Solution Graphe potentiel-tâche:\t   15.0\n"
     ]
    }
   ],
   "source": [
    "G2 = [ -1 0 -1 -1  0 -1 -1 -1;\n",
    "      -1 -1  6 -1 -1 -1 -1 -1;\n",
    "      -1 -1 -1  7 -1 -1 -1 -1;\n",
    "      -1 -1 -1 -1 -1 -1 -1  0;\n",
    "      -1 -1 -1 -1 -1  3 -1 -1;\n",
    "      -1 -1 -1 -1 -1 -1  5 -1;\n",
    "      -1 -1 -1 -1 -1 -1 -1  1;\n",
    "      -1 -1 -1 -1 -1 -1 -1 -1;\n",
    "];\n",
    "\n",
    "Gd2 = [ 0 0 0 0 0 0 0 0;\n",
    "        0 0 0 0 6 0 0 0;\n",
    "        0 0 0 0 0 0 7 0;\n",
    "        0 0 0 0 0 0 0 0;\n",
    "        0 3 0 0 0 0 0 0;\n",
    "        0 0 0 0 0 0 0 0;\n",
    "        0 0 1 0 0 0 0 0;\n",
    "        0 0 0 0 0 0 0 0;\n",
    "];\n",
    "\n",
    "dis = BellmanFord_disjonctif(G2, Gd2, 1);\n",
    "affres2(dis, 1)\n",
    "println(\"\\n\\nSolution Graphe potentiel-tâche:\\t   $(dis[8, 1])\")"
   ]
  },
  {
   "cell_type": "code",
   "execution_count": 36,
   "metadata": {},
   "outputs": [
    {
     "name": "stdout",
     "output_type": "stream",
     "text": [
      "Result :\n",
      "node     | biggest cost from 1      | previous node\n",
      "\n",
      "1           0.0                          -1.0\n",
      "2           0.0                          1.0\n",
      "3           6.0                          2.0\n",
      "4           14.0                          6.0\n",
      "5           6.0                          2.0\n",
      "6           9.0                          5.0\n",
      "7           14.0                          6.0\n",
      "8           18.0                          4.0\n",
      "\n",
      "\n",
      "Solution Graphe potentiel-tâche:\t   18.0\n"
     ]
    }
   ],
   "source": [
    "#Test sur le tableau 3\n",
    "G3 = [ -1 0 -1 -1  0 -1 -1 -1;\n",
    "       -1 -1  6 -1 -1 -1 -1 -1;\n",
    "       -1 -1 -1  7 -1 -1 -1 -1;\n",
    "       -1 -1 -1 -1 -1 -1 -1  4;\n",
    "       -1 -1 -1 -1 -1  3 -1 -1;\n",
    "       -1 -1 -1 -1 -1 -1  5 -1;\n",
    "       -1 -1 -1 -1 -1 -1 -1  1;\n",
    "       -1 -1 -1 -1 -1 -1 -1 -1;\n",
    "]\n",
    "\n",
    "Gd3 = [ 0 0 0 0 0 0 0 0;\n",
    "        0 0 0 0 6 0 0 0;\n",
    "        0 0 0 0 0 0 7 0;\n",
    "        0 0 0 0 0 4 0 0;\n",
    "        0 3 0 0 0 0 0 0;\n",
    "        0 0 0 5 0 0 0 0;\n",
    "        0 0 1 0 0 0 0 0;\n",
    "        0 0 0 0 0 0 0 0;\n",
    "]\n",
    "dis = BellmanFord_disjonctif(G3, Gd3, 1);\n",
    "affres2(dis, 1)\n",
    "println(\"\\n\\nSolution Graphe potentiel-tâche:\\t   $(dis[8, 1])\")"
   ]
  }
 ],
 "metadata": {
  "kernelspec": {
   "display_name": "Julia 1.5.2",
   "language": "julia",
   "name": "julia-1.5"
  },
  "language_info": {
   "file_extension": ".jl",
   "mimetype": "application/julia",
   "name": "julia",
   "version": "1.5.2"
  }
 },
 "nbformat": 4,
 "nbformat_minor": 2
}
