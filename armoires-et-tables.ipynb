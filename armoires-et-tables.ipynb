{
 "cells": [
  {
   "cell_type": "code",
   "execution_count": 2,
   "metadata": {},
   "outputs": [
    {
     "name": "stdout",
     "output_type": "stream",
     "text": [
      "Welcome to the CBC MILP Solver \n",
      "Version: 2.10.3 \n",
      "Build Date: Jan  1 1970 \n",
      "\n",
      "command line - Cbc_C_Interface -solve -quit (default strategy 1)\n",
      "Continuous objective value is 18 - 0.00 seconds\n",
      "Cgl0004I processed model has 0 rows, 0 columns (0 integer (0 of which binary)) and 0 elements\n",
      "Cbc3007W No integer variables - nothing to do\n",
      "Cuts at root node changed objective from -12 to -1.79769e+308\n",
      "Probing was tried 0 times and created 0 cuts of which 0 were active after adding rounds of cuts (0.000 seconds)\n",
      "Gomory was tried 0 times and created 0 cuts of which 0 were active after adding rounds of cuts (0.000 seconds)\n",
      "Knapsack was tried 0 times and created 0 cuts of which 0 were active after adding rounds of cuts (0.000 seconds)\n",
      "Clique was tried 0 times and created 0 cuts of which 0 were active after adding rounds of cuts (0.000 seconds)\n",
      "MixedIntegerRounding2 was tried 0 times and created 0 cuts of which 0 were active after adding rounds of cuts (0.000 seconds)\n",
      "FlowCover was tried 0 times and created 0 cuts of which 0 were active after adding rounds of cuts (0.000 seconds)\n",
      "TwoMirCuts was tried 0 times and created 0 cuts of which 0 were active after adding rounds of cuts (0.000 seconds)\n",
      "ZeroHalf was tried 0 times and created 0 cuts of which 0 were active after adding rounds of cuts (0.000 seconds)\n",
      "\n",
      "Result - Optimal solution found\n",
      "\n",
      "Objective value:                12.00000000\n",
      "Enumerated nodes:               0\n",
      "Total iterations:               1\n",
      "Time (CPU seconds):             0.00\n",
      "Time (Wallclock seconds):       0.00\n",
      "\n",
      "Total time (CPU seconds):       0.00   (Wallclock seconds):       0.00\n",
      "\n"
     ]
    }
   ],
   "source": [
    "using Cbc\n",
    "using JuMP\n",
    "\n",
    "#set optimizer\n",
    "model = Model(Cbc.Optimizer)\n",
    "\n",
    "#nombre d'article en bois\n",
    "N = 2\n",
    "\n",
    "# bois en stock\n",
    "B = 45\n",
    "\n",
    "#temps de travail par jour\n",
    "hr = 6\n",
    "\n",
    "# temps necessaire pour chaque article en bois\n",
    "T = rand(4:10, N, 1)\n",
    "\n",
    "# quantité de bois necessaire pour chaque article en bois\n",
    "Q = rand(5:20, N, 1)\n",
    "\n",
    "# gain rapporté par chaque article en bois\n",
    "G = rand(5:16, N, 1)\n",
    "\n",
    "# define variables\n",
    "@variable(model, x[1:N] >= 0, Int)\n",
    "\n",
    "# define objective function\n",
    "@objective(model, Max, sum(x[i] * G[i] for i in 1:N))\n",
    "\n",
    "@constraint(model, sum(x[i] * Q[i] for i in 1:N) <= B)\n",
    "\n",
    "@constraint(model, sum(x[i] * T[i] for i in 1:N) <= hr)\n",
    "\n",
    "optimize!(model)"
   ]
  },
  {
   "cell_type": "code",
   "execution_count": 3,
   "metadata": {},
   "outputs": [
    {
     "name": "stdout",
     "output_type": "stream",
     "text": [
      "solution\n",
      "\t 0.0\n",
      "\t 1.0\n"
     ]
    }
   ],
   "source": [
    "println(\"solution\")\n",
    "for i in 1:N\n",
    "   println(\"\\t $(value(x[i]))\")\n",
    "end"
   ]
  }
 ],
 "metadata": {
  "kernelspec": {
   "display_name": "Julia 1.5.2",
   "language": "julia",
   "name": "julia-1.5"
  },
  "language_info": {
   "file_extension": ".jl",
   "mimetype": "application/julia",
   "name": "julia",
   "version": "1.5.2"
  }
 },
 "nbformat": 4,
 "nbformat_minor": 4
}
