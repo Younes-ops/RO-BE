{
 "cells": [
  {
   "cell_type": "code",
   "execution_count": 8,
   "metadata": {},
   "outputs": [
    {
     "name": "stdout",
     "output_type": "stream",
     "text": [
      "Welcome to the CBC MILP Solver \n",
      "Version: 2.10.3 \n",
      "Build Date: Jan  1 1970 \n",
      "\n",
      "command line - Cbc_C_Interface -solve -quit (default strategy 1)\n",
      "Presolve 1 (-9) rows, 3 (-9) columns and 3 (-21) elements\n",
      "0  Obj 4.6999999 Primal inf 2.099999 (1)\n",
      "1  Obj 8\n",
      "Optimal - objective value 8\n",
      "After Postsolve, objective 8, infeasibilities - dual 0 (0), primal 0 (0)\n",
      "Optimal objective 8 - 1 iterations time 0.002, Presolve 0.00\n",
      "Total time (CPU seconds):       0.00   (Wallclock seconds):       0.00\n",
      "\n"
     ]
    }
   ],
   "source": [
    "#Cas 1:\n",
    "using Cbc\n",
    "using JuMP\n",
    "\n",
    "C = [1 1; 2 3; 3 2]\n",
    "S = [2.5 1; 1 2; 2 1]\n",
    "q = [2 0;0 3]\n",
    "\n",
    "# set optimizer\n",
    "model1 = Model(Cbc.Optimizer)\n",
    "\n",
    "# define variables\n",
    "@variable(model1, A[1:3,1:2,1:2] >= 0)\n",
    "\n",
    "# define objective function\n",
    "@objective(model1, Min, sum(sum( sum(C[i,j]*A[i,j,k] for k in 1:2) for i in 1:3) for j in 1:2))\n",
    "\n",
    "# Aucun magasin ne peut livrer plus que ce qu'il a en stock\n",
    "for i in 1:3\n",
    "    for j in 1:2\n",
    "        @constraint(model1,  A[i,j,1] + A[i,j,2] <= S[i,j])\n",
    "    end\n",
    "end\n",
    "\n",
    "# Le nombre total demandé par chaque client\n",
    "for j in 1:2\n",
    "    for k in 1:2\n",
    "        @constraint(model1,  sum(A[i,j,k] for i in 1:3 ) == q[k,j])\n",
    "    end\n",
    "end\n",
    "\n",
    "optimize!(model1)"
   ]
  },
  {
   "cell_type": "code",
   "execution_count": 9,
   "metadata": {},
   "outputs": [
    {
     "name": "stdout",
     "output_type": "stream",
     "text": [
      "Solution obtenue:\n",
      "\t le client 1 prend 2.0 du F1 a partir du magasin 1\n",
      "\t le client 2 prend 1.0 du F2 a partir du magasin 1\n",
      "\t le client 2 prend 1.0 du F2 a partir du magasin 2\n",
      "\t le client 2 prend 1.0 du F2 a partir du magasin 3\n"
     ]
    }
   ],
   "source": [
    "# print solution\n",
    "println(\"Solution obtenue:\")\n",
    "for i in 1:3\n",
    "    for j in 1:2\n",
    "        for k in 1:2 \n",
    "            if (value(A[i,j,k])) != 0\n",
    "                println(\"\\t le client $k prend $(value(A[i,j,k])) du F$j a partir du magasin $i\")\n",
    "            end\n",
    "        end\n",
    "    end\n",
    "end"
   ]
  }
 ],
 "metadata": {
  "kernelspec": {
   "display_name": "Julia 1.5.2",
   "language": "julia",
   "name": "julia-1.5"
  },
  "language_info": {
   "file_extension": ".jl",
   "mimetype": "application/julia",
   "name": "julia",
   "version": "1.5.2"
  }
 },
 "nbformat": 4,
 "nbformat_minor": 4
}
