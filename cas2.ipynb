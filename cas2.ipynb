{
 "cells": [
  {
   "cell_type": "code",
   "execution_count": 6,
   "metadata": {},
   "outputs": [
    {
     "name": "stdout",
     "output_type": "stream",
     "text": [
      "Welcome to the CBC MILP Solver \n",
      "Version: 2.10.3 \n",
      "Build Date: Jan  1 1970 \n",
      "\n",
      "command line - Cbc_C_Interface -solve -quit (default strategy 1)\n",
      "Continuous objective value is 9.5 - 0.00 seconds\n",
      "Cgl0003I 0 fixed, 0 tightened bounds, 1 strengthened rows, 0 substitutions\n",
      "Cgl0003I 0 fixed, 0 tightened bounds, 1 strengthened rows, 0 substitutions\n",
      "Cgl0004I processed model has 6 rows, 9 columns (9 integer (6 of which binary)) and 17 elements\n",
      "Cbc0012I Integer solution of 10 found by DiveCoefficient after 0 iterations and 0 nodes (0.00 seconds)\n",
      "Cbc0001I Search completed - best objective 10, took 0 iterations and 0 nodes (0.00 seconds)\n",
      "Cbc0035I Maximum depth 0, 0 variables fixed on reduced cost\n",
      "Cuts at root node changed objective from 10 to 10\n",
      "Probing was tried 0 times and created 0 cuts of which 0 were active after adding rounds of cuts (0.000 seconds)\n",
      "Gomory was tried 0 times and created 0 cuts of which 0 were active after adding rounds of cuts (0.000 seconds)\n",
      "Knapsack was tried 0 times and created 0 cuts of which 0 were active after adding rounds of cuts (0.000 seconds)\n",
      "Clique was tried 0 times and created 0 cuts of which 0 were active after adding rounds of cuts (0.000 seconds)\n",
      "MixedIntegerRounding2 was tried 0 times and created 0 cuts of which 0 were active after adding rounds of cuts (0.000 seconds)\n",
      "FlowCover was tried 0 times and created 0 cuts of which 0 were active after adding rounds of cuts (0.000 seconds)\n",
      "TwoMirCuts was tried 0 times and created 0 cuts of which 0 were active after adding rounds of cuts (0.000 seconds)\n",
      "ZeroHalf was tried 0 times and created 0 cuts of which 0 were active after adding rounds of cuts (0.000 seconds)\n",
      "\n",
      "Result - Optimal solution found\n",
      "\n",
      "Objective value:                10.00000000\n",
      "Enumerated nodes:               0\n",
      "Total iterations:               0\n",
      "Time (CPU seconds):             0.00\n",
      "Time (Wallclock seconds):       0.00\n",
      "\n",
      "Total time (CPU seconds):       0.00   (Wallclock seconds):       0.00\n",
      "\n"
     ]
    }
   ],
   "source": [
    "#Cas 2:\n",
    "using Cbc\n",
    "using JuMP\n",
    "\n",
    "NB_CLIENTS = 2\n",
    "NB_MAGASINS = 3\n",
    "NB_PRODUITS = 2\n",
    "\n",
    "#le cout du produit Pj dans le magasin Mi\n",
    "#C = rand(1:5, NB_MAGASINS, NB_PRODUITS)\n",
    "C = [1 1; 2 3; 3 2]\n",
    "\n",
    "#Le nombre disponible en stock de Pj dans le magasin Mi\n",
    "#S = rand(10:15, NB_MAGASINS, NB_PRODUITS)\n",
    "S = [2.5 1; 1 2; 2 1]\n",
    "\n",
    "#Le nombre total de produit Pj demandé par le client k\n",
    "#Q = rand(1:5, NB_CLIENTS, NB_PRODUITS)\n",
    "Q = [2 0;1 3]\n",
    "\n",
    "# set optimizer\n",
    "model2 = Model(Cbc.Optimizer)\n",
    "\n",
    "# define variables\n",
    "@variable(model2, A[1:NB_MAGASINS,1:NB_PRODUITS,1:NB_CLIENTS] >= 0, Int)\n",
    "\n",
    "# define objective function\n",
    "@objective(model2, Min, sum(sum( sum(C[i,j] * A[i,j,k] for k in 1:NB_CLIENTS) for i in 1:NB_MAGASINS) for j in 1:NB_PRODUITS))\n",
    "\n",
    "# Aucun magasin ne peut livrer plus que ce qu'il a en stock\n",
    "for i in 1:NB_MAGASINS\n",
    "    for j in 1:NB_PRODUITS\n",
    "        @constraint(model2,  sum(A[i,j,k] for k in 1:NB_CLIENTS) <= S[i,j])\n",
    "    end\n",
    "end\n",
    "\n",
    "# Le nombre total demandé par chaque client\n",
    "for j in 1:NB_PRODUITS\n",
    "    for k in 1:NB_CLIENTS\n",
    "        @constraint(model2,  sum(A[i,j,k] for i in 1:NB_MAGASINS ) == Q[k,j])\n",
    "    end\n",
    "end\n",
    "\n",
    "optimize!(model2)"
   ]
  },
  {
   "cell_type": "code",
   "execution_count": 7,
   "metadata": {},
   "outputs": [
    {
     "name": "stdout",
     "output_type": "stream",
     "text": [
      "Solution obtenue:\n",
      "\t le client 1 prend 1.0 du P1 a partir du magasin 1\n",
      "\t le client 2 prend 1.0 du P1 a partir du magasin 1\n",
      "\t le client 2 prend 1.0 du P2 a partir du magasin 1\n",
      "\t le client 1 prend 1.0 du P1 a partir du magasin 2\n",
      "\t le client 2 prend 1.0 du P2 a partir du magasin 2\n",
      "\t le client 2 prend 1.0 du P2 a partir du magasin 3\n"
     ]
    }
   ],
   "source": [
    "# print solution\n",
    "println(\"Solution obtenue:\")\n",
    "for i in 1:NB_MAGASINS\n",
    "    for j in 1:NB_PRODUITS\n",
    "        for k in 1:NB_CLIENTS \n",
    "            if (value(A[i,j,k])) != 0\n",
    "                println(\"\\t le client $k prend $(value(A[i,j,k])) du P$j a partir du magasin $i\")\n",
    "            end\n",
    "        end\n",
    "    end\n",
    "end"
   ]
  }
 ],
 "metadata": {
  "kernelspec": {
   "display_name": "Julia 1.5.2",
   "language": "julia",
   "name": "julia-1.5"
  },
  "language_info": {
   "file_extension": ".jl",
   "mimetype": "application/julia",
   "name": "julia",
   "version": "1.5.2"
  }
 },
 "nbformat": 4,
 "nbformat_minor": 4
}
